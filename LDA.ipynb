{
 "cells": [
  {
   "cell_type": "markdown",
   "metadata": {},
   "source": [
    "## install mecab on mac\n",
    "```\n",
    "brew install mecab mecab-ipadic  \n",
    "pip install mecab-python3\n",
    "```"
   ]
  },
  {
   "cell_type": "markdown",
   "metadata": {},
   "source": [
    "## install neolog\n",
    "```\n",
    "git clone --depth 1 https://github.com/neologd/mecab-ipadic-neologd.git\n",
    "cd mecab-ipadic-neologd\n",
    "./bin/install-mecab-ipadic-neologd -n\n",
    "```"
   ]
  },
  {
   "cell_type": "markdown",
   "metadata": {},
   "source": [
    "## get Japanese articles\n",
    "livedoor ニュースコーパス\n",
    "\n",
    "```\n",
    "wget https://www.rondhuit.com/download/ldcc-20140209.tar.gz\n",
    "tar xvzf ldcc-20140209.tar.gz\n",
    "```"
   ]
  },
  {
   "cell_type": "code",
   "execution_count": 1,
   "metadata": {
    "collapsed": false
   },
   "outputs": [],
   "source": [
    "import MeCab\n",
    "from urllib import request \n",
    "from pathlib import Path\n",
    "from gensim import corpora, models\n",
    "import tqdm"
   ]
  },
  {
   "cell_type": "code",
   "execution_count": 2,
   "metadata": {
    "collapsed": false
   },
   "outputs": [],
   "source": [
    "mecab = MeCab.Tagger(\"-Ochasen -d /usr/local/lib/mecab/dic/mecab-ipadic-neologd/\")"
   ]
  },
  {
   "cell_type": "code",
   "execution_count": 3,
   "metadata": {
    "collapsed": false
   },
   "outputs": [
    {
     "data": {
      "text/plain": [
       "[['今日', 'キョウ', '今日', '名詞-副詞可能'],\n",
       " ['も', 'モ', 'も', '助詞-係助詞'],\n",
       " ['1日', 'ツイタチ', '1日', '名詞-固有名詞-一般'],\n",
       " ['がん', 'ガン', 'がん', '名詞-一般'],\n",
       " ['ばる', 'バル', 'バル', '名詞-一般'],\n",
       " ['ぞい', 'ゾイ', 'ぞい', '名詞-接尾-一般'],\n",
       " ['！', '！', '！', '記号-一般'],\n",
       " ['1000', '1000', '1000', '名詞-数'],\n",
       " ['EOS\\n']]"
      ]
     },
     "execution_count": 3,
     "metadata": {},
     "output_type": "execute_result"
    }
   ],
   "source": [
    "[line.split(\"\\t\") for line in mecab.parse(\"今日も1日がんばるぞい！1000\").split(\"\\t\\t\\n\")]"
   ]
  },
  {
   "cell_type": "code",
   "execution_count": 4,
   "metadata": {
    "collapsed": false
   },
   "outputs": [
    {
     "data": {
      "text/plain": [
       "[PosixPath('text/dokujo-tsushin'),\n",
       " PosixPath('text/it-life-hack'),\n",
       " PosixPath('text/kaden-channel'),\n",
       " PosixPath('text/livedoor-homme'),\n",
       " PosixPath('text/movie-enter'),\n",
       " PosixPath('text/peachy'),\n",
       " PosixPath('text/smax'),\n",
       " PosixPath('text/sports-watch'),\n",
       " PosixPath('text/topic-news')]"
      ]
     },
     "execution_count": 4,
     "metadata": {},
     "output_type": "execute_result"
    }
   ],
   "source": [
    "doc_dir = Path(\"./text/\")\n",
    "dirs = [i for i in doc_dir.iterdir() if i.is_dir()]\n",
    "dirs"
   ]
  },
  {
   "cell_type": "code",
   "execution_count": 7,
   "metadata": {
    "collapsed": false
   },
   "outputs": [],
   "source": [
    "articles = [a for categ in dirs for a in categ.iterdir()]"
   ]
  },
  {
   "cell_type": "code",
   "execution_count": 8,
   "metadata": {
    "collapsed": false
   },
   "outputs": [
    {
     "data": {
      "text/plain": [
       "7376"
      ]
     },
     "execution_count": 8,
     "metadata": {},
     "output_type": "execute_result"
    }
   ],
   "source": [
    "len(articles)"
   ]
  },
  {
   "cell_type": "code",
   "execution_count": 9,
   "metadata": {
    "collapsed": false,
    "scrolled": true
   },
   "outputs": [],
   "source": [
    "res = request.urlopen(\"http://svn.sourceforge.jp/svnroot/slothlib/CSharp/Version1/SlothLib/NLP/Filter/StopWord/word/Japanese.txt\")\n",
    "stopwords = [line.decode(\"utf-8\").strip() for line in res]\n",
    "#stopwords"
   ]
  },
  {
   "cell_type": "code",
   "execution_count": 10,
   "metadata": {
    "collapsed": false
   },
   "outputs": [
    {
     "data": {
      "text/plain": [
       "['青葉', '正社員', 'お', '給料', '抜け穴']"
      ]
     },
     "execution_count": 10,
     "metadata": {},
     "output_type": "execute_result"
    }
   ],
   "source": [
    "def tokenizer(text):\n",
    "    l = [line.split(\"\\t\") for line in mecab.parse(text).split(\"\\t\\t\\n\")]\n",
    "    res = [i[0] for i in l \n",
    "                   if len(i)==4 \n",
    "                       and \"名詞\" in i[3] \n",
    "                       and \"数\" not in i[3] \n",
    "                       and i[0] not in stopwords\n",
    "            ]\n",
    "    return res\n",
    "tokenizer(\"青葉「ま・・・まさか！正社員ってお給料を安くするための法の抜け穴・・・」1000\")"
   ]
  },
  {
   "cell_type": "code",
   "execution_count": 11,
   "metadata": {
    "collapsed": false
   },
   "outputs": [
    {
     "name": "stderr",
     "output_type": "stream",
     "text": [
      "100%|██████████| 7376/7376 [00:25<00:00, 293.51it/s]\n"
     ]
    }
   ],
   "source": [
    "docs = []\n",
    "for a in tqdm.tqdm(articles):\n",
    "    with a.open() as f:\n",
    "        f.readline()\n",
    "        f.readline()\n",
    "        docs.append(tokenizer(f.read()))"
   ]
  },
  {
   "cell_type": "code",
   "execution_count": 12,
   "metadata": {
    "collapsed": false
   },
   "outputs": [],
   "source": [
    "no_below = 5\n",
    "no_above = 0.2\n",
    "d = corpora.Dictionary(docs)\n",
    "d.filter_extremes(no_below, no_above)\n",
    "d.compactify()\n",
    "\n",
    "#d.save(output)"
   ]
  },
  {
   "cell_type": "code",
   "execution_count": 13,
   "metadata": {
    "collapsed": true
   },
   "outputs": [],
   "source": [
    "corpus = [d.doc2bow(w) for w in docs]\n",
    "#corpora.MmCorpus.serialize(output, corpus)"
   ]
  },
  {
   "cell_type": "code",
   "execution_count": 15,
   "metadata": {
    "collapsed": false
   },
   "outputs": [],
   "source": [
    "lda = models.ldamodel.LdaModel(corpus=corpus, id2word=d, num_topics=10, iterations=100, passes=5)"
   ]
  },
  {
   "cell_type": "code",
   "execution_count": 16,
   "metadata": {
    "collapsed": false
   },
   "outputs": [
    {
     "data": {
      "text/plain": [
       "[(6,\n",
       "  '0.011*\"仕事\" + 0.010*\"女性\" + 0.006*\"男性\" + 0.005*\"転職\" + 0.005*\"会社\" + 0.005*\"livedoor\" + 0.004*\"結婚\" + 0.004*\"の\" + 0.004*\"年収\" + 0.003*\"相手\"'),\n",
       " (0,\n",
       "  '0.015*\"氏\" + 0.010*\"放送\" + 0.010*\"韓国\" + 0.008*\"番組\" + 0.008*\"選手\" + 0.007*\"声\" + 0.007*\"批判\" + 0.007*\"試合\" + 0.006*\"監督\" + 0.006*\"同\"'),\n",
       " (3,\n",
       "  '0.007*\"ネット掲示板\" + 0.007*\"アナ\" + 0.006*\"ファッション\" + 0.005*\"自殺\" + 0.004*\"球団\" + 0.004*\"ボール\" + 0.004*\"女子\" + 0.004*\"物議\" + 0.004*\"大\" + 0.004*\"足\"'),\n",
       " (1,\n",
       "  '0.013*\"更新\" + 0.013*\"対応\" + 0.012*\"D\" + 0.011*\"搭載\" + 0.010*\"スマートフォン\" + 0.010*\"S\" + 0.009*\"ソフトウェア\" + 0.009*\"機能\" + 0.008*\"MAX\" + 0.007*\"利用\"'),\n",
       " (4,\n",
       "  '0.025*\"映画\" + 0.014*\"公開\" + 0.009*\"監督\" + 0.007*\"作品\" + 0.006*\"本作\" + 0.005*\"世界\" + 0.005*\"役\" + 0.005*\"大\" + 0.004*\"特集\" + 0.004*\"主演\"')]"
      ]
     },
     "execution_count": 16,
     "metadata": {},
     "output_type": "execute_result"
    }
   ],
   "source": [
    "lda.print_topics(5)"
   ]
  },
  {
   "cell_type": "markdown",
   "metadata": {},
   "source": [
    "## see on tensorboard\n",
    "\n",
    "http://projector.tensorflow.org/  \n",
    "ref: https://github.com/RaRe-Technologies/gensim/blob/develop/docs/notebooks/Tensorboard_visualizations.ipynb\n"
   ]
  },
  {
   "cell_type": "code",
   "execution_count": 18,
   "metadata": {
    "collapsed": false
   },
   "outputs": [
    {
     "data": {
      "text/plain": [
       "[(0, 0.24285481438366582),\n",
       " (1, 0.00075203810829471934),\n",
       " (2, 0.12574257757405069),\n",
       " (3, 0.00075203970888466584),\n",
       " (4, 0.00075196348648189158),\n",
       " (5, 0.0007520392488661945),\n",
       " (6, 0.50031870821471058),\n",
       " (7, 0.00075199303843009706),\n",
       " (8, 0.056999363162606884),\n",
       " (9, 0.070324463074008664)]"
      ]
     },
     "execution_count": 18,
     "metadata": {},
     "output_type": "execute_result"
    }
   ],
   "source": [
    "all_topics = lda.get_document_topics(corpus, minimum_probability=0)\n",
    "all_topics[0]"
   ]
  },
  {
   "cell_type": "code",
   "execution_count": 29,
   "metadata": {
    "collapsed": false
   },
   "outputs": [],
   "source": [
    "with open('doc_lda_tensor.tsv','w') as w:\n",
    "    for doc_topics in all_topics:\n",
    "        for topics in doc_topics:\n",
    "            w.write(str(topics[1])+ \"\\t\")\n",
    "        w.write(\"\\n\")    "
   ]
  },
  {
   "cell_type": "code",
   "execution_count": 30,
   "metadata": {
    "collapsed": false
   },
   "outputs": [],
   "source": [
    "meta = [str(a).split(\"/\") for a in articles]"
   ]
  },
  {
   "cell_type": "code",
   "execution_count": 31,
   "metadata": {
    "collapsed": false
   },
   "outputs": [
    {
     "data": {
      "text/plain": [
       "['text', 'dokujo-tsushin', 'dokujo-tsushin-4778030.txt']"
      ]
     },
     "execution_count": 31,
     "metadata": {},
     "output_type": "execute_result"
    }
   ],
   "source": [
    "meta[0]"
   ]
  },
  {
   "cell_type": "code",
   "execution_count": 35,
   "metadata": {
    "collapsed": false
   },
   "outputs": [],
   "source": [
    "with open('doc_lda_metadata.tsv','w') as w:\n",
    "    w.write('Titles\\tGenres\\n')\n",
    "    for m in meta:\n",
    "        w.write(\"%s\\t%s\\n\" % (m[1][:2], m[1]))"
   ]
  },
  {
   "cell_type": "code",
   "execution_count": null,
   "metadata": {
    "collapsed": true
   },
   "outputs": [],
   "source": []
  }
 ],
 "metadata": {
  "kernelspec": {
   "display_name": "Environment (py3.6)",
   "language": "",
   "name": "py3.6"
  },
  "language_info": {
   "codemirror_mode": {
    "name": "ipython",
    "version": 3
   },
   "file_extension": ".py",
   "mimetype": "text/x-python",
   "name": "python",
   "nbconvert_exporter": "python",
   "pygments_lexer": "ipython3",
   "version": "3.6.0"
  }
 },
 "nbformat": 4,
 "nbformat_minor": 2
}
