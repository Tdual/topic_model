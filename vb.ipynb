{
 "cells": [
  {
   "cell_type": "code",
   "execution_count": 2,
   "metadata": {},
   "outputs": [
    {
     "name": "stdout",
     "output_type": "stream",
     "text": [
      "notebook\n"
     ]
    }
   ],
   "source": [
    "import itertools\n",
    "import random\n",
    "import MeCab\n",
    "from urllib import request \n",
    "from pathlib import Path\n",
    "import re\n",
    "import numpy as np\n",
    "from scipy.special import digamma\n",
    "\n",
    "try:\n",
    "    if get_ipython().__class__.__name__ == 'ZMQInteractiveShell':\n",
    "        print(\"notebook\")\n",
    "        from tqdm import tqdm_notebook as tqdm\n",
    "    else:\n",
    "        raise RuntimeError\n",
    "except (NameError, RuntimeError):\n",
    "    from tqdm import tqdm\n",
    "\n"
   ]
  },
  {
   "cell_type": "code",
   "execution_count": 3,
   "metadata": {},
   "outputs": [],
   "source": [
    "mecab = MeCab.Tagger(\"-Ochasen -d /usr/local/lib/mecab/dic/mecab-ipadic-neologd/\")"
   ]
  },
  {
   "cell_type": "code",
   "execution_count": 4,
   "metadata": {},
   "outputs": [
    {
     "name": "stdout",
     "output_type": "stream",
     "text": [
      "330\n"
     ]
    }
   ],
   "source": [
    "res = request.urlopen(\"http://svn.sourceforge.jp/svnroot/slothlib/CSharp/Version1/SlothLib/NLP/Filter/StopWord/word/Japanese.txt\")\n",
    "stopwords = [line.decode(\"utf-8\").strip() for line in res]\n",
    "print(len(stopwords))"
   ]
  },
  {
   "cell_type": "code",
   "execution_count": 5,
   "metadata": {},
   "outputs": [],
   "source": [
    "class Tokenizer:\n",
    "    def __init__(self, stopwords, parser=None, include_pos=None, exclude_posdetail=None, exclude_reg=None):\n",
    "    \n",
    "        self.stopwords = stopwords\n",
    "        self.include_pos = include_pos if include_pos else  [\"名詞\", \"動詞\", \"形容詞\"]\n",
    "        self.exclude_posdetail = exclude_posdetail if exclude_posdetail else [\"接尾\", \"数\"]\n",
    "        self.exclude_reg = exclude_reg if exclude_reg else r\"$^\"  # no matching reg\n",
    "        if parser:\n",
    "            self.parser = parser\n",
    "        else:\n",
    "            mecab = MeCab.Tagger(\"-Ochasen -d /usr/local/lib/mecab/dic/mecab-ipadic-neologd/\")\n",
    "            self.parser = mecab.parse\n",
    "            \n",
    "\n",
    "    def tokenize(self, text, show_pos=False):\n",
    "        text = re.sub(r\"https?://(?:[-\\w.]|(?:%[\\da-fA-F]{2}))+\", \"\", text)    #URL\n",
    "        text = re.sub(r\"\\\"?([-a-zA-Z0-9.`?{}]+\\.jp)\\\"?\" ,\"\", text)  # xxx.jp \n",
    "        text = text.lower()\n",
    "        l = [line.split(\"\\t\") for line in self.parser(text).split(\"\\n\")]\n",
    "        res = [\n",
    "            i[2] if not show_pos else (i[2],i[3]) for i in l \n",
    "                if len(i) >=4 # has POS.\n",
    "                    and i[3].split(\"-\")[0] in self.include_pos\n",
    "                    and i[3].split(\"-\")[1] not in self.exclude_posdetail\n",
    "                    and not re.search(r\"(-|−)\\d\", i[2])\n",
    "                    and not re.search(self.exclude_reg, i[2])\n",
    "                    and i[2] not in self.stopwords          \n",
    "            ]\n",
    "        return res\n",
    "t = Tokenizer(stopwords + [\"…。\"] , mecab.parse, exclude_reg=r\"\\d(年|月|日)\")"
   ]
  },
  {
   "cell_type": "code",
   "execution_count": 6,
   "metadata": {},
   "outputs": [
    {
     "data": {
      "text/plain": [
       "[PosixPath('text/movie-enter'),\n",
       " PosixPath('text/it-life-hack'),\n",
       " PosixPath('text/kaden-channel'),\n",
       " PosixPath('text/topic-news'),\n",
       " PosixPath('text/livedoor-homme'),\n",
       " PosixPath('text/peachy'),\n",
       " PosixPath('text/sports-watch'),\n",
       " PosixPath('text/dokujo-tsushin'),\n",
       " PosixPath('text/smax')]"
      ]
     },
     "execution_count": 6,
     "metadata": {},
     "output_type": "execute_result"
    }
   ],
   "source": [
    "doc_path = \"./text/\"\n",
    "doc_dir = Path(doc_path)\n",
    "dirs = [i for i in doc_dir.iterdir() if i.is_dir()]\n",
    "dirs"
   ]
  },
  {
   "cell_type": "code",
   "execution_count": 7,
   "metadata": {},
   "outputs": [],
   "source": [
    "articles = [a for categ in dirs for a in categ.iterdir()]"
   ]
  },
  {
   "cell_type": "code",
   "execution_count": 8,
   "metadata": {},
   "outputs": [
    {
     "data": {
      "text/plain": [
       "7376"
      ]
     },
     "execution_count": 8,
     "metadata": {},
     "output_type": "execute_result"
    }
   ],
   "source": [
    "len(articles)"
   ]
  },
  {
   "cell_type": "code",
   "execution_count": 9,
   "metadata": {},
   "outputs": [],
   "source": [
    "articles = articles[:50]"
   ]
  },
  {
   "cell_type": "code",
   "execution_count": 10,
   "metadata": {},
   "outputs": [],
   "source": [
    "class Doc_manager():\n",
    "    def __init__(self, docs):\n",
    "        self.docs = docs\n",
    "        \n",
    "    def read_doc(self, doc_id):\n",
    "        with self.docs[doc_id].open() as f:\n",
    "            print(f.read())"
   ]
  },
  {
   "cell_type": "code",
   "execution_count": 11,
   "metadata": {},
   "outputs": [],
   "source": [
    "dm = Doc_manager(articles)"
   ]
  },
  {
   "cell_type": "code",
   "execution_count": 13,
   "metadata": {},
   "outputs": [
    {
     "data": {
      "application/vnd.jupyter.widget-view+json": {
       "model_id": "3bdabd3d13c44772b6e00f0f6cfb4c21",
       "version_major": 2,
       "version_minor": 0
      },
      "text/html": [
       "<p>Failed to display Jupyter Widget of type <code>HBox</code>.</p>\n",
       "<p>\n",
       "  If you're reading this message in the Jupyter Notebook or JupyterLab Notebook, it may mean\n",
       "  that the widgets JavaScript is still loading. If this message persists, it\n",
       "  likely means that the widgets JavaScript library is either not installed or\n",
       "  not enabled. See the <a href=\"https://ipywidgets.readthedocs.io/en/stable/user_install.html\">Jupyter\n",
       "  Widgets Documentation</a> for setup instructions.\n",
       "</p>\n",
       "<p>\n",
       "  If you're reading this message in another frontend (for example, a static\n",
       "  rendering on GitHub or <a href=\"https://nbviewer.jupyter.org/\">NBViewer</a>),\n",
       "  it may mean that your frontend doesn't currently support widgets.\n",
       "</p>\n"
      ],
      "text/plain": [
       "HBox(children=(IntProgress(value=0, max=50), HTML(value='')))"
      ]
     },
     "metadata": {},
     "output_type": "display_data"
    },
    {
     "name": "stdout",
     "output_type": "stream",
     "text": [
      "\n"
     ]
    }
   ],
   "source": [
    "docs = []\n",
    "for a in tqdm(articles):\n",
    "    with a.open() as f:\n",
    "        f.readline()\n",
    "        f.readline()\n",
    "        docs.append(t.tokenize(f.read()))"
   ]
  },
  {
   "cell_type": "code",
   "execution_count": 14,
   "metadata": {},
   "outputs": [],
   "source": [
    "dictionary = {}\n",
    "vocab = set(w for d in docs for w in d)\n",
    "word2id = dict(zip(vocab, itertools.count()))\n",
    "id2word = dict(list(enumerate(vocab)))"
   ]
  },
  {
   "cell_type": "code",
   "execution_count": 15,
   "metadata": {},
   "outputs": [],
   "source": [
    "corpus = []\n",
    "for d in docs:\n",
    "    corpus.append([word2id[w] for w in d])"
   ]
  },
  {
   "cell_type": "code",
   "execution_count": 16,
   "metadata": {},
   "outputs": [],
   "source": [
    "random.shuffle(corpus)"
   ]
  },
  {
   "cell_type": "code",
   "execution_count": null,
   "metadata": {},
   "outputs": [],
   "source": []
  },
  {
   "cell_type": "code",
   "execution_count": 17,
   "metadata": {},
   "outputs": [
    {
     "data": {
      "text/plain": [
       "'職場'"
      ]
     },
     "execution_count": 17,
     "metadata": {},
     "output_type": "execute_result"
    }
   ],
   "source": [
    "id2word[0]"
   ]
  },
  {
   "cell_type": "code",
   "execution_count": null,
   "metadata": {},
   "outputs": [],
   "source": []
  },
  {
   "cell_type": "code",
   "execution_count": 18,
   "metadata": {},
   "outputs": [],
   "source": [
    "test_size = int(len(corpus) * 0.3)\n",
    "test_corpus = corpus[:test_size]\n",
    "train_corpus= corpus[test_size:]"
   ]
  },
  {
   "cell_type": "code",
   "execution_count": 19,
   "metadata": {},
   "outputs": [],
   "source": [
    "M = len(train_corpus)\n",
    "V =  len(vocab)\n",
    "k = 20"
   ]
  },
  {
   "cell_type": "code",
   "execution_count": 20,
   "metadata": {},
   "outputs": [
    {
     "name": "stdout",
     "output_type": "stream",
     "text": [
      "35 4764 20\n"
     ]
    }
   ],
   "source": [
    "print(M,V,k)"
   ]
  },
  {
   "cell_type": "code",
   "execution_count": 23,
   "metadata": {},
   "outputs": [],
   "source": [
    "gamma_ = np.random.rand(M, k)\n",
    "lambda_ = np.random.rand(V, k)\n",
    "q_ = np.random.rand(M,V,k)"
   ]
  },
  {
   "cell_type": "code",
   "execution_count": 24,
   "metadata": {},
   "outputs": [
    {
     "name": "stdout",
     "output_type": "stream",
     "text": [
      "(35, 20)\n",
      "(4764, 20)\n",
      "(35, 4764, 20)\n"
     ]
    }
   ],
   "source": [
    "print(gamma_.shape)\n",
    "print(lambda_.shape)\n",
    "print(q_.shape)"
   ]
  },
  {
   "cell_type": "code",
   "execution_count": null,
   "metadata": {},
   "outputs": [],
   "source": []
  },
  {
   "cell_type": "code",
   "execution_count": 25,
   "metadata": {},
   "outputs": [],
   "source": [
    "from scipy.special import digamma"
   ]
  },
  {
   "cell_type": "code",
   "execution_count": 26,
   "metadata": {},
   "outputs": [],
   "source": [
    "gamma_ = np.random.rand(M, k)\n",
    "lambda_ = np.random.rand(V, k)\n",
    "q_ = np.random.rand(M,V,k)\n",
    "\n",
    "def get_per(corpus, alpha, eta, n_itr=100):\n",
    "    perplexity = 0.0\n",
    "    N = 0\n",
    "    for d in corpus:\n",
    "        N += len(d)\n",
    "    for _ in range(n_itr):\n",
    "        theta = np.array([np.random.dirichlet(a) for a in alpha])\n",
    "        beta = np.array([np.random.dirichlet(e) for e in eta.T])\n",
    "        m = np.inner(theta, beta.T)\n",
    "        log_p = 0.0\n",
    "        for i, d in enumerate(corpus):\n",
    "            log_p += np.log(m[i][d]).sum()\n",
    "        perplexity += np.exp(-log_p/N)\n",
    "    perplexity = perplexity/n_itr\n",
    "    return perplexity"
   ]
  },
  {
   "cell_type": "code",
   "execution_count": 27,
   "metadata": {},
   "outputs": [
    {
     "data": {
      "text/plain": [
       "5576.0176935432455"
      ]
     },
     "execution_count": 27,
     "metadata": {},
     "output_type": "execute_result"
    }
   ],
   "source": [
    "alpha = gamma_\n",
    "eta = lambda_\n",
    "get_per(test_corpus, alpha, eta, n_itr=100)"
   ]
  },
  {
   "cell_type": "code",
   "execution_count": 28,
   "metadata": {},
   "outputs": [
    {
     "name": "stdout",
     "output_type": "stream",
     "text": [
      "4239\n"
     ]
    }
   ],
   "source": [
    "N = 0\n",
    "for d in test_corpus:\n",
    "        N += len(d)\n",
    "print(N)"
   ]
  },
  {
   "cell_type": "code",
   "execution_count": 29,
   "metadata": {
    "scrolled": true
   },
   "outputs": [
    {
     "data": {
      "application/vnd.jupyter.widget-view+json": {
       "model_id": "957ddcf95e44499cb2690056dde88e8c",
       "version_major": 2,
       "version_minor": 0
      },
      "text/html": [
       "<p>Failed to display Jupyter Widget of type <code>HBox</code>.</p>\n",
       "<p>\n",
       "  If you're reading this message in the Jupyter Notebook or JupyterLab Notebook, it may mean\n",
       "  that the widgets JavaScript is still loading. If this message persists, it\n",
       "  likely means that the widgets JavaScript library is either not installed or\n",
       "  not enabled. See the <a href=\"https://ipywidgets.readthedocs.io/en/stable/user_install.html\">Jupyter\n",
       "  Widgets Documentation</a> for setup instructions.\n",
       "</p>\n",
       "<p>\n",
       "  If you're reading this message in another frontend (for example, a static\n",
       "  rendering on GitHub or <a href=\"https://nbviewer.jupyter.org/\">NBViewer</a>),\n",
       "  it may mean that your frontend doesn't currently support widgets.\n",
       "</p>\n"
      ],
      "text/plain": [
       "HBox(children=(IntProgress(value=0, max=50), HTML(value='')))"
      ]
     },
     "metadata": {},
     "output_type": "display_data"
    },
    {
     "name": "stdout",
     "output_type": "stream",
     "text": [
      "0 :  5314.943479750492\n",
      "1 :  5195.217753467785\n",
      "2 :  5111.026171381576\n",
      "3 :  5047.939355209994\n",
      "4 :  4973.880596674787\n",
      "5 :  4893.566145257753\n",
      "6 :  4834.691972501662\n",
      "7 :  4748.105801850343\n",
      "8 :  4678.647368751252\n",
      "9 :  4602.4488802464675\n",
      "10 :  4521.260414804595\n",
      "11 :  4445.274752476373\n",
      "12 :  4365.377202171497\n",
      "13 :  4289.469088488443\n",
      "14 :  4207.438404841112\n",
      "15 :  4136.1289712688285\n",
      "16 :  4068.548895399984\n",
      "17 :  3998.350912163145\n",
      "18 :  3940.502327263738\n",
      "19 :  3883.769334117448\n",
      "20 :  3841.410098102611\n",
      "21 :  3806.064044578289\n",
      "22 :  3786.6186937682055\n",
      "23 :  3775.0701246693106\n",
      "24 :  3780.2993390204924\n",
      "25 :  3796.926603845982\n",
      "26 :  3830.1465634823817\n",
      "27 :  3875.9739458304725\n",
      "28 :  3928.8825577777475\n",
      "29 :  4007.586888187217\n",
      "30 :  4093.5786286930706\n",
      "31 :  4213.5131537868465\n",
      "32 :  4327.414587680403\n",
      "33 :  4478.269655954258\n",
      "34 :  4627.5842399329795\n",
      "35 :  4799.646767563641\n",
      "36 :  4975.575916964332\n",
      "37 :  5164.2798536396685\n",
      "38 :  5358.374112847642\n",
      "39 :  5563.220545263122\n",
      "40 :  5780.550797380748\n",
      "41 :  5997.2984077914225\n",
      "42 :  6210.014939955615\n",
      "43 :  6442.766344025714\n",
      "44 :  6676.817240433382\n",
      "45 :  6909.718177954175\n",
      "46 :  7132.828445456376\n",
      "47 :  7372.583232295242\n",
      "48 :  7604.100678835046\n",
      "49 :  7814.991937934447\n",
      "\n"
     ]
    }
   ],
   "source": [
    "for itr in tqdm(range(50)):\n",
    "    \n",
    "    for d in range(M):\n",
    "        doc = train_corpus[d]\n",
    "        N_d = len(doc)\n",
    "        for n in range(N_d):\n",
    "            gamma_sum = gamma_.sum(axis=1)\n",
    "            lambda_sum = lambda_.sum(axis=0)\n",
    "            w = int(doc[n])\n",
    "\n",
    "            q_[d,w] = np.exp(digamma(gamma_[d]) - digamma(gamma_sum)[d] + digamma(lambda_[w]) - digamma(lambda_sum))\n",
    "            q_ = q_/q_.sum()\n",
    "            gamma_[d] += q_.sum(axis=1)[d]\n",
    "            lambda_[w] += q_.sum(axis=0)[w]\n",
    "            \n",
    "\n",
    "    alpha = gamma_ - q_.sum(axis=1)\n",
    "    eta = lambda_ - q_.sum(axis=0)\n",
    "    \n",
    "    perplexity = get_per(test_corpus, alpha, eta, n_itr=200)\n",
    "    print(itr, \": \", perplexity)\n"
   ]
  },
  {
   "cell_type": "code",
   "execution_count": null,
   "metadata": {},
   "outputs": [],
   "source": [
    "k=4\n",
    "14 :  5338.01566202\n",
    "    \n",
    "k=5\n",
    "20 :  4814.45180145\n",
    "    \n",
    "k=6\n",
    "20 :  4735.64121761\n",
    "    \n",
    "k=7    \n",
    "20 :  4694.68933233\n",
    "\n",
    "k=8\n",
    "21 :  4635.48873153\n",
    "    \n",
    "k=9\n",
    "24 :  4474.1900581\n",
    "    \n",
    "k=10\n",
    "29 :  4421.17836746"
   ]
  },
  {
   "cell_type": "code",
   "execution_count": null,
   "metadata": {},
   "outputs": [],
   "source": []
  },
  {
   "cell_type": "code",
   "execution_count": null,
   "metadata": {},
   "outputs": [],
   "source": []
  },
  {
   "cell_type": "code",
   "execution_count": null,
   "metadata": {},
   "outputs": [],
   "source": []
  },
  {
   "cell_type": "code",
   "execution_count": 31,
   "metadata": {},
   "outputs": [],
   "source": [
    "theta = np.array([np.random.dirichlet(a) for a in alpha])\n",
    "beta = np.array([np.random.dirichlet(e) for e in eta])"
   ]
  },
  {
   "cell_type": "code",
   "execution_count": 32,
   "metadata": {},
   "outputs": [
    {
     "name": "stdout",
     "output_type": "stream",
     "text": [
      "#  0\n",
      "気味  :  0.6239974196633218\n",
      "仮面ライダーディケイド  :  0.550002625377603\n",
      "フェンシング  :  0.5305533897272142\n",
      "経験  :  0.5258745563426709\n",
      "配役  :  0.5247843349045276\n",
      "費  :  0.5129119445826025\n",
      "連載小説  :  0.49354545769959257\n",
      "映画界  :  0.48986686585353545\n",
      "行き着い  :  0.48729532344139814\n",
      "チェック  :  0.48125785886106737\n",
      "\n",
      "\n",
      "#  1\n",
      "先日  :  0.675954595493469\n",
      "視野  :  0.5600913147302473\n",
      "肉体  :  0.5040535279812864\n",
      "競演  :  0.48290636687128646\n",
      "ok  :  0.48160095040546885\n",
      "収容  :  0.48013825323949866\n",
      "兼ね備え  :  0.4694183366394489\n",
      "前田旺志郎  :  0.46309297820766804\n",
      "閉鎖  :  0.45856396857489934\n",
      "ガッツ  :  0.4542355524795075\n",
      "\n",
      "\n",
      "#  2\n",
      "脚本  :  0.5062366285166927\n",
      "バース  :  0.5054053307613474\n",
      "草木  :  0.4828877913019305\n",
      "燃料  :  0.47465927828613214\n",
      "答える  :  0.47309643170500354\n",
      "異なる  :  0.4643383977757699\n",
      "早  :  0.44657344995565007\n",
      "お前  :  0.4450108161323171\n",
      "編集部  :  0.4371959397225338\n",
      "薄く  :  0.4354819977563358\n",
      "\n",
      "\n",
      "#  3\n",
      "bad  :  0.6970073333462452\n",
      "頂ける  :  0.5463353912014385\n",
      "反応  :  0.5123431849390175\n",
      "圧倒的  :  0.5073984612560681\n",
      "モト冬樹  :  0.4761974464726004\n",
      "衣装  :  0.46323243913658096\n",
      "収録  :  0.44710245808342486\n",
      "新宿ピカデリー  :  0.4441705520190452\n",
      "縛ら  :  0.43001093561441905\n",
      "語ろ  :  0.4183081413396782\n",
      "\n",
      "\n",
      "#  4\n",
      "高かっ  :  0.5714991481662662\n",
      "欲しく  :  0.5416822045563391\n",
      "麻生  :  0.5045269872023357\n",
      "天使  :  0.5000388456465596\n",
      "開催  :  0.4875112652554298\n",
      "遂げる  :  0.47808998493896254\n",
      "レット  :  0.4724201698237542\n",
      "かったん  :  0.4688383621586539\n",
      "ベティ・ブルー  :  0.45784522199583166\n",
      "いけ  :  0.44607986080000966\n",
      "\n",
      "\n",
      "#  5\n",
      "拡大  :  0.6077601222103952\n",
      "妻  :  0.5801644974646507\n",
      "過ぎる  :  0.5629155635526678\n",
      "モリアーティ  :  0.549904423181501\n",
      "ジョニデ  :  0.5117282327375187\n",
      "チャリティ  :  0.4622950001138624\n",
      "語れ  :  0.45273200030126365\n",
      "可能  :  0.45119363699653187\n",
      "先行公開  :  0.43050444087682\n",
      "ユーモラス  :  0.42589115262907035\n",
      "\n",
      "\n",
      "#  6\n",
      "平気  :  0.6955680818636276\n",
      "ルパン三世  :  0.61615325257885\n",
      "敵国  :  0.5770666260124454\n",
      "オープン  :  0.5435731934556223\n",
      "二部作  :  0.5230387847934145\n",
      "ノイズ  :  0.5019254553792416\n",
      "予約特典  :  0.4940158131749763\n",
      "ludacris  :  0.48739996810242375\n",
      "be@rbrick  :  0.4717797837266392\n",
      "政治家  :  0.4715039903027741\n",
      "\n",
      "\n",
      "#  7\n",
      "勝ち取っ  :  0.51446155077465\n",
      "意味  :  0.5118016515036292\n",
      "he  :  0.47994923946925566\n",
      "傲慢  :  0.4514273231307875\n",
      "アレクサンダー・ペイン  :  0.4346239512564062\n",
      "逃避行  :  0.4323153680452155\n",
      "タイプ  :  0.4311483252019256\n",
      "一言  :  0.4141097791078705\n",
      "生身  :  0.413652412232842\n",
      "史上初  :  0.4132745836609381\n",
      "\n",
      "\n",
      "#  8\n",
      "お笑いコンビ  :  0.5024347131221542\n",
      "ダーク  :  0.5012740550099261\n",
      "絵留  :  0.44829628512594993\n",
      "ひと言  :  0.44707635099970233\n",
      "接続料  :  0.44626165286600367\n",
      "ニュージーランド  :  0.4452037940807049\n",
      "トラブル  :  0.4323375631217079\n",
      "red／レッド  :  0.4242125471445201\n",
      "放題  :  0.42066974884144576\n",
      "王国  :  0.409891943740637\n",
      "\n",
      "\n",
      "#  9\n",
      "確立  :  0.56732095963422\n",
      "斬首  :  0.5602224459278294\n",
      "その子  :  0.525217380879889\n",
      "違う  :  0.499104816114409\n",
      "マネジメント  :  0.47785972702167595\n",
      "類似  :  0.47553029731341795\n",
      "指輪  :  0.46887311083536726\n",
      "夕刊  :  0.4675245407603405\n",
      "マニア  :  0.46623935121175625\n",
      "泣ける  :  0.4656799066229856\n",
      "\n",
      "\n",
      "#  10\n",
      "始まり  :  0.7054526921999527\n",
      "思わ  :  0.57038603586885\n",
      "今度  :  0.5668866066711472\n",
      "脚本家  :  0.5513475346418236\n",
      "浴び  :  0.5457545429865112\n",
      "近い  :  0.4975128242911805\n",
      "コンテスト  :  0.4832710584134278\n",
      "顔  :  0.47572808709175296\n",
      "瞬  :  0.46813372327905334\n",
      "イノベーション  :  0.44544281404074937\n",
      "\n",
      "\n",
      "#  11\n",
      "恋人  :  0.5103648385702719\n",
      "高校デビュー  :  0.4884597118712749\n",
      "藤村  :  0.4759403679401125\n",
      "会い  :  0.45066110782326657\n",
      "敵  :  0.4215166579513183\n",
      "tohoシネマズ日劇  :  0.41727366296618756\n",
      "櫻井孝宏  :  0.4105361640454638\n",
      "最強のふたり  :  0.4043957646419176\n",
      "ケイティ・ペリー  :  0.39694615650486403\n",
      "最高峰  :  0.3963798755991043\n",
      "\n",
      "\n",
      "#  12\n",
      "バイオレンス  :  0.630916549466763\n",
      "見所  :  0.5763511094153163\n",
      "チコとリタ  :  0.5357330797886561\n",
      "ホビットの冒険  :  0.5312278714658516\n",
      "インターネット  :  0.5290292155690586\n",
      "ネギ  :  0.5128844934465348\n",
      "王道  :  0.48905964781746364\n",
      "疑わ  :  0.47319919883584577\n",
      "ｂｅｅｔｖ  :  0.4539585784791735\n",
      "大島  :  0.44856276895154334\n",
      "\n",
      "\n",
      "#  13\n",
      "ジム  :  0.6027713150056516\n",
      "抗議殺到  :  0.5574622167864908\n",
      "官能  :  0.5309922585215461\n",
      "惚れ込ん  :  0.5169356920889284\n",
      "つづる  :  0.50879052435482\n",
      "浅沼晋太郎  :  0.5035919596397508\n",
      "自由  :  0.4847956118309237\n",
      "部屋  :  0.45622432365181176\n",
      "心情  :  0.44809945925648065\n",
      "注目  :  0.44559309756568133\n",
      "\n",
      "\n",
      "#  14\n",
      "gogw  :  0.6844080070413645\n",
      "ファミリー・ツリー  :  0.6052468377225974\n",
      "突発  :  0.5511194396218515\n",
      "ブランク  :  0.45090463151828525\n",
      "喜び  :  0.43996767611645893\n",
      "かたくな  :  0.4363727891326122\n",
      "オスカー  :  0.43537621390012227\n",
      "激動  :  0.4319516293113693\n",
      "クリエイーター  :  0.43114736921849917\n",
      "なごやか  :  0.42478449916470434\n",
      "\n",
      "\n",
      "#  15\n",
      "すごく  :  0.5895609415149784\n",
      "笑える  :  0.5611866492210019\n",
      "やってくる  :  0.5226055280941346\n",
      "はやぶさ  :  0.509271896761301\n",
      "石井ふく子  :  0.5084803931866897\n",
      "ボーデン  :  0.4867322098670511\n",
      "着替え  :  0.4765974270675283\n",
      "東野圭吾  :  0.4721332240651674\n",
      "エンター  :  0.4459369555214638\n",
      "モンスターパニック  :  0.4458540072592318\n",
      "\n",
      "\n",
      "#  16\n",
      "揚げる  :  0.6882764020145254\n",
      "タレント  :  0.5569211778630893\n",
      "海東  :  0.5562574707041766\n",
      "一足  :  0.5354239777195992\n",
      "動物園  :  0.5007644515134675\n",
      "主軸  :  0.48586346457393564\n",
      "ナノケア  :  0.47370236614212297\n",
      "追い  :  0.4708645987519832\n",
      "堺雅人  :  0.4677959227113536\n",
      "a  :  0.4315607522191337\n",
      "\n",
      "\n",
      "#  17\n",
      "壮絶  :  0.5642710002216098\n",
      "演劇  :  0.5537121382868856\n",
      "小惑星  :  0.5474808428218544\n",
      "外伝  :  0.5193667359839054\n",
      "書き下ろし  :  0.4903329452344453\n",
      "言い出せ  :  0.48975429600572923\n",
      "紗綾  :  0.4865314449633306\n",
      "渡る  :  0.47450993569578526\n",
      "亜紀  :  0.45775066092959754\n",
      "縮める  :  0.43130534453426855\n",
      "\n",
      "\n",
      "#  18\n",
      "嬉しく  :  0.5666647007918052\n",
      "中学三年生  :  0.562721607805624\n",
      "事件  :  0.5393799476746901\n",
      "曲  :  0.4994501419547515\n",
      "回る  :  0.49058309589631627\n",
      "挫折  :  0.47076695909356864\n",
      "旦那さん  :  0.46277465792423134\n",
      "上部  :  0.4594135439422846\n",
      "上陸  :  0.45798471260109586\n",
      "間違わ  :  0.4437350990560731\n",
      "\n",
      "\n",
      "#  19\n",
      "生ん  :  0.6033095952977812\n",
      "いそしん  :  0.5751374841387569\n",
      "崩し  :  0.5676604687715374\n",
      "シド  :  0.5590222146696895\n",
      "映画批評  :  0.549920830592242\n",
      "テレビ  :  0.5059959224975641\n",
      "頂点  :  0.5027983210148136\n",
      "起こし  :  0.4844726663016387\n",
      "大群  :  0.46192057092167643\n",
      "濃い  :  0.46143686327314287\n",
      "\n",
      "\n"
     ]
    }
   ],
   "source": [
    "for i in range(k):\n",
    "    print(\"# \", i)\n",
    "    for t in sorted([(i,rate) for (i,rate) in enumerate(beta.T[i])], key=lambda t: t[1],reverse=True)[:10]:\n",
    "        print(id2word[t[0]],\" : \",t[1])\n",
    "    print(\"\\n\")"
   ]
  },
  {
   "cell_type": "code",
   "execution_count": null,
   "metadata": {},
   "outputs": [],
   "source": []
  },
  {
   "cell_type": "code",
   "execution_count": null,
   "metadata": {},
   "outputs": [],
   "source": []
  }
 ],
 "metadata": {
  "kernelspec": {
   "display_name": "Environment (conda_py36)",
   "language": "python",
   "name": "conda_py36"
  },
  "language_info": {
   "codemirror_mode": {
    "name": "ipython",
    "version": 3
   },
   "file_extension": ".py",
   "mimetype": "text/x-python",
   "name": "python",
   "nbconvert_exporter": "python",
   "pygments_lexer": "ipython3",
   "version": "3.6.3"
  }
 },
 "nbformat": 4,
 "nbformat_minor": 2
}
