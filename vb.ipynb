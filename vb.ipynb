{
 "cells": [
  {
   "cell_type": "code",
   "execution_count": 2,
   "metadata": {},
   "outputs": [
    {
     "name": "stdout",
     "output_type": "stream",
     "text": [
      "notebook\n"
     ]
    }
   ],
   "source": [
    "from urllib import request \n",
    "import logging\n",
    "from pathlib import Path\n",
    "import numpy as np\n",
    "try:\n",
    "    if get_ipython().__class__.__name__ == 'ZMQInteractiveShell':\n",
    "        print(\"notebook\")\n",
    "        from tqdm import tqdm_notebook as tqdm\n",
    "    else:\n",
    "        raise RuntimeError\n",
    "except (NameError, RuntimeError):\n",
    "    from tqdm import tqdm\n",
    "import re\n",
    "import MeCab\n",
    "from gensim import corpora, models"
   ]
  },
  {
   "cell_type": "code",
   "execution_count": 3,
   "metadata": {},
   "outputs": [],
   "source": [
    "mecab = MeCab.Tagger(\"-Ochasen -d /usr/local/lib/mecab/dic/mecab-ipadic-neologd/\")"
   ]
  },
  {
   "cell_type": "code",
   "execution_count": 4,
   "metadata": {},
   "outputs": [],
   "source": [
    "res = request.urlopen(\"http://svn.sourceforge.jp/svnroot/slothlib/CSharp/Version1/SlothLib/NLP/Filter/StopWord/word/Japanese.txt\")\n",
    "stopwords = [line.decode(\"utf-8\").strip() for line in res]"
   ]
  },
  {
   "cell_type": "code",
   "execution_count": 5,
   "metadata": {},
   "outputs": [],
   "source": [
    "def tokenizer(text):\n",
    "    l = [line.split(\"\\t\") for line in mecab.parse(text).split(\"\\n\")]\n",
    "    res = [i[0] for i in l \n",
    "                   if len(i) >=4 \n",
    "                       and (\"名詞\" in i[3] or \"動詞\" in i[3] or \"形容詞\" in i[3] )\n",
    "                       and \"数\" not in i[3] and \"助動詞\" not in i[3] \n",
    "                       #and not re.search(\"[0-9]\", i[0])\n",
    "                       and i[0] not in stopwords\n",
    "            ]\n",
    "    return res"
   ]
  },
  {
   "cell_type": "code",
   "execution_count": 6,
   "metadata": {},
   "outputs": [
    {
     "data": {
      "text/plain": [
       "['認め', '自分自身', '若さ故の過ち']"
      ]
     },
     "execution_count": 6,
     "metadata": {},
     "output_type": "execute_result"
    }
   ],
   "source": [
    "tokenizer(\"認めたくないものだな。自分自身の若さ故の過ちというものを。\")"
   ]
  },
  {
   "cell_type": "code",
   "execution_count": 7,
   "metadata": {},
   "outputs": [
    {
     "data": {
      "text/plain": [
       "[PosixPath('text/movie-enter'),\n",
       " PosixPath('text/it-life-hack'),\n",
       " PosixPath('text/kaden-channel'),\n",
       " PosixPath('text/topic-news'),\n",
       " PosixPath('text/livedoor-homme'),\n",
       " PosixPath('text/peachy'),\n",
       " PosixPath('text/sports-watch'),\n",
       " PosixPath('text/dokujo-tsushin'),\n",
       " PosixPath('text/smax')]"
      ]
     },
     "execution_count": 7,
     "metadata": {},
     "output_type": "execute_result"
    }
   ],
   "source": [
    "doc_path = \"./text/\"\n",
    "doc_dir = Path(doc_path)\n",
    "dirs = [i for i in doc_dir.iterdir() if i.is_dir()]\n",
    "dirs"
   ]
  },
  {
   "cell_type": "code",
   "execution_count": 8,
   "metadata": {},
   "outputs": [],
   "source": [
    "articles = [a for categ in dirs for a in categ.iterdir()]"
   ]
  },
  {
   "cell_type": "code",
   "execution_count": 9,
   "metadata": {},
   "outputs": [
    {
     "data": {
      "text/plain": [
       "7376"
      ]
     },
     "execution_count": 9,
     "metadata": {},
     "output_type": "execute_result"
    }
   ],
   "source": [
    "len(articles)"
   ]
  },
  {
   "cell_type": "code",
   "execution_count": 10,
   "metadata": {},
   "outputs": [],
   "source": [
    "articles = articles[:30]"
   ]
  },
  {
   "cell_type": "code",
   "execution_count": 11,
   "metadata": {},
   "outputs": [],
   "source": [
    "def read_doc(doc_id):\n",
    "    with articles[doc_id].open() as f:\n",
    "        print(f.read())"
   ]
  },
  {
   "cell_type": "code",
   "execution_count": 12,
   "metadata": {},
   "outputs": [],
   "source": [
    "class Doc_manager():\n",
    "    def __init__(self, docs):\n",
    "        self.docs = docs\n",
    "        \n",
    "    def read_doc(self, doc_id):\n",
    "        with self.docs[doc_id].open() as f:\n",
    "            print(f.read())"
   ]
  },
  {
   "cell_type": "code",
   "execution_count": 13,
   "metadata": {},
   "outputs": [],
   "source": [
    "dm = Doc_manager(articles)"
   ]
  },
  {
   "cell_type": "code",
   "execution_count": 14,
   "metadata": {},
   "outputs": [
    {
     "name": "stdout",
     "output_type": "stream",
     "text": [
      "http://news.livedoor.com/article/detail/5978741/\n",
      "2011-10-30T10:15:00+0900\n",
      "【DVDエンター！】誘拐犯に育てられた女が目にした真実は、孤独か幸福か\n",
      "　2005年11月から翌2006年7月まで読売新聞にて連載された、直木賞作家・角田光代による初の長編サスペンス『八日目の蝉』。2010年に檀れいと北乃きいの出演によりテレビドラマ化された同作が、2011年4月に永作博美と井上真央の出演によって映画化。そして、劇場公開から半年が過ぎた10月28日、DVD＆ブルーレイとなって発売されました。\n",
      "\n",
      "八日目の蝉\n",
      "　妻子ある男と愛し合い、その子を身ごもりながら、あきらめざるをえなかった女。彼女は同時に、男の妻が子供を産んだことを知る。その赤ん坊を見に行った女は、突発的にその子を連れ去り、逃避行を続けた挙句、小豆島に落ち着き、母と娘として暮らしはじめる。\n",
      "\n",
      "\n",
      "不倫相手の子供を誘拐し、4年間育てた女\n",
      "　永作博美が演じる野々宮希和子は、不倫相手の子を宿しながらも、彼の「いずれ妻と別れるから、それまで待ってくれ」という常套句を信じて、中絶。後遺症により、二度と子供を産めない身体となってしまいます。その後、不倫相手から彼の妻が出産したことを知らされ、別れを決意。最後に諦めをつけるため、彼らの生後6ヶ月の赤ん坊・恵理菜の顔を見た希和子でしたが、自分に笑顔で向けた恵理菜を見て、思わず誘拐。名前を変えて恵理菜を薫と名付けると、人目を避けて各地を転々とし、二人で幸せな時間を過ごしますが、辿り着いた最後の場所・小豆島で4年の逃避行に終止符を打ちます。\n",
      "\n",
      "\n",
      "誘拐犯に育てられた女\n",
      "　4歳になって実の両親と再会を果たした後も、世間から言われの無い中傷を受け、本当の両親との関係を築けないまま、21歳の大学生へと成長した恵理菜。過去と向き合うことを避けてきた恵理菜でしたが、劇団ひとりが演じる不倫相手・岸田孝史の子を宿し、ずっと憎み続けてきた希和子と同じ道を歩んでいることに気付いた彼女は、小池栄子が演じるルポライター・安藤千草と共に、4年間の逃亡生活を追憶する旅に出ます。希和子との幸せだった時間に触れながら、最終地・小豆島に辿り着いた恵理菜が見た真実とは？\n",
      "\n",
      "\n",
      "八日目の蝉は幸せなのだろうか？\n",
      "　蝉は俗説として、一生の大半を幼虫として地下で費やし、地上に出て羽化からわずか1週間程度で死ぬと言われています。八日目まで生き残ってしまった蝉が目にしたのは、孤独か、あるいは誰も目にすることのできなかった世界なのでしょうか。中絶によって二度と子供を埋めない身体になった希和子が、恵理菜と過ごした4年間の“八日目”は、希和子だけでなく、恵理菜にとっても幸せな時間だったのではないでしょうか。\n",
      "\n",
      "　主題歌は、デビュー10年目に突入した2010年10月より、耳管開放症のため音楽活動を休止していた中島美嘉の復帰第一弾（通算33作目）シングル『Dear』。原作に深い感銘を受けた彼女が、本作のために提供した楽曲となっています。\n",
      "\n",
      "・八日目の蝉 - 作品情報\n",
      "\n",
      "八日目の蝉　通常版 [DVD]posted with amazlet at 11.10.29アミューズソフトエンタテインメント (2011-10-28)\n",
      "売り上げランキング: 266\n",
      "Amazon.co.jp で詳細を見る\n",
      "■関連記事\n",
      "・井上真央が逃避行？永作、森口、小池も頭を悩ます映画とは\n",
      "\n"
     ]
    }
   ],
   "source": [
    "dm.read_doc(0)"
   ]
  },
  {
   "cell_type": "code",
   "execution_count": 15,
   "metadata": {},
   "outputs": [
    {
     "data": {
      "application/vnd.jupyter.widget-view+json": {
       "model_id": "193b6ba745074999ba625fc64f7902ab",
       "version_major": 2,
       "version_minor": 0
      },
      "text/html": [
       "<p>Failed to display Jupyter Widget of type <code>HBox</code>.</p>\n",
       "<p>\n",
       "  If you're reading this message in the Jupyter Notebook or JupyterLab Notebook, it may mean\n",
       "  that the widgets JavaScript is still loading. If this message persists, it\n",
       "  likely means that the widgets JavaScript library is either not installed or\n",
       "  not enabled. See the <a href=\"https://ipywidgets.readthedocs.io/en/stable/user_install.html\">Jupyter\n",
       "  Widgets Documentation</a> for setup instructions.\n",
       "</p>\n",
       "<p>\n",
       "  If you're reading this message in another frontend (for example, a static\n",
       "  rendering on GitHub or <a href=\"https://nbviewer.jupyter.org/\">NBViewer</a>),\n",
       "  it may mean that your frontend doesn't currently support widgets.\n",
       "</p>\n"
      ],
      "text/plain": [
       "HBox(children=(IntProgress(value=0, max=30), HTML(value='')))"
      ]
     },
     "metadata": {},
     "output_type": "display_data"
    },
    {
     "name": "stdout",
     "output_type": "stream",
     "text": [
      "\n"
     ]
    }
   ],
   "source": [
    "docs = []\n",
    "for a in tqdm(articles):\n",
    "    with a.open() as f:\n",
    "        f.readline()\n",
    "        f.readline()\n",
    "        docs.append(tokenizer(f.read()))"
   ]
  },
  {
   "cell_type": "code",
   "execution_count": 16,
   "metadata": {},
   "outputs": [],
   "source": [
    "dictionary = corpora.Dictionary(docs)"
   ]
  },
  {
   "cell_type": "code",
   "execution_count": 17,
   "metadata": {},
   "outputs": [
    {
     "data": {
      "text/plain": [
       "<gensim.corpora.dictionary.Dictionary at 0x110f5fac8>"
      ]
     },
     "execution_count": 17,
     "metadata": {},
     "output_type": "execute_result"
    }
   ],
   "source": [
    "dictionary"
   ]
  },
  {
   "cell_type": "code",
   "execution_count": 18,
   "metadata": {},
   "outputs": [],
   "source": [
    "#d.filter_extremes(no_below=5, no_above=0.2)\n",
    "# nob_below以下の個数の単語を無視\n",
    "# no_aboveの割合以上に出てくる単語を無視\n",
    "\n",
    "#d.compactify()\n",
    "# idを振り直してコンパクトにする。"
   ]
  },
  {
   "cell_type": "code",
   "execution_count": 19,
   "metadata": {},
   "outputs": [
    {
     "data": {
      "text/plain": [
       "3952"
      ]
     },
     "execution_count": 19,
     "metadata": {},
     "output_type": "execute_result"
    }
   ],
   "source": [
    "dic_num = len(dictionary)\n",
    "dic_num"
   ]
  },
  {
   "cell_type": "code",
   "execution_count": 20,
   "metadata": {},
   "outputs": [
    {
     "data": {
      "text/plain": [
       "[(2196, 1)]"
      ]
     },
     "execution_count": 20,
     "metadata": {},
     "output_type": "execute_result"
    }
   ],
   "source": [
    "dictionary.doc2bow([\"パソコン\",\"テレビ\",\"パソコン\"])"
   ]
  },
  {
   "cell_type": "code",
   "execution_count": 21,
   "metadata": {},
   "outputs": [],
   "source": [
    "corpus = [dictionary.doc2bow(w) for w in docs]"
   ]
  },
  {
   "cell_type": "code",
   "execution_count": 22,
   "metadata": {},
   "outputs": [
    {
     "data": {
      "text/plain": [
       "30"
      ]
     },
     "execution_count": 22,
     "metadata": {},
     "output_type": "execute_result"
    }
   ],
   "source": [
    "len(corpus)"
   ]
  },
  {
   "cell_type": "code",
   "execution_count": 23,
   "metadata": {},
   "outputs": [],
   "source": [
    "M = len(corpus)\n",
    "V =  len(dictionary)\n",
    "k = 3"
   ]
  },
  {
   "cell_type": "code",
   "execution_count": 24,
   "metadata": {},
   "outputs": [],
   "source": [
    "gamma_di = 1.0 \n",
    "lambda_wi =  1.0"
   ]
  },
  {
   "cell_type": "code",
   "execution_count": 25,
   "metadata": {},
   "outputs": [],
   "source": [
    "gamma_ = np.random.rand(M, k)\n",
    "lambda_ = np.random.rand(V, k)\n",
    "q_ = np.random.rand(M,V,k)"
   ]
  },
  {
   "cell_type": "code",
   "execution_count": 26,
   "metadata": {},
   "outputs": [],
   "source": [
    "from scipy.special import digamma"
   ]
  },
  {
   "cell_type": "code",
   "execution_count": null,
   "metadata": {},
   "outputs": [
    {
     "data": {
      "application/vnd.jupyter.widget-view+json": {
       "model_id": "c4585bfe6b4544a1ac875dd8917d1b9f",
       "version_major": 2,
       "version_minor": 0
      },
      "text/html": [
       "<p>Failed to display Jupyter Widget of type <code>HBox</code>.</p>\n",
       "<p>\n",
       "  If you're reading this message in the Jupyter Notebook or JupyterLab Notebook, it may mean\n",
       "  that the widgets JavaScript is still loading. If this message persists, it\n",
       "  likely means that the widgets JavaScript library is either not installed or\n",
       "  not enabled. See the <a href=\"https://ipywidgets.readthedocs.io/en/stable/user_install.html\">Jupyter\n",
       "  Widgets Documentation</a> for setup instructions.\n",
       "</p>\n",
       "<p>\n",
       "  If you're reading this message in another frontend (for example, a static\n",
       "  rendering on GitHub or <a href=\"https://nbviewer.jupyter.org/\">NBViewer</a>),\n",
       "  it may mean that your frontend doesn't currently support widgets.\n",
       "</p>\n"
      ],
      "text/plain": [
       "HBox(children=(IntProgress(value=0, max=1000), HTML(value='')))"
      ]
     },
     "metadata": {},
     "output_type": "display_data"
    },
    {
     "name": "stdout",
     "output_type": "stream",
     "text": [
      "-130520.407875\n",
      "-130191.758061\n",
      "-130211.584266\n",
      "-130222.289299\n",
      "-130229.265863\n",
      "-130233.243179\n",
      "-130236.079223\n",
      "-130238.648031\n",
      "-130240.266225\n",
      "-130241.495751\n",
      "-130242.547619\n",
      "-130243.355586\n",
      "-130243.961771\n",
      "-130244.592355\n",
      "-130245.078356\n",
      "-130245.539451\n",
      "-130245.932161\n",
      "-130246.18944\n",
      "-130246.430579\n",
      "-130246.69159\n",
      "-130246.955407\n",
      "-130247.152409\n",
      "-130247.320459\n",
      "-130247.523404\n",
      "-130247.625857\n",
      "-130247.759093\n",
      "-130247.865838\n",
      "-130248.002405\n",
      "-130248.099485\n",
      "-130248.196063\n",
      "-130248.294615\n",
      "-130248.387782\n",
      "-130248.438174\n",
      "-130248.532424\n",
      "-130248.611011\n",
      "-130248.667843\n",
      "-130248.727813\n",
      "-130248.744072\n",
      "-130248.858142\n",
      "-130248.894271\n",
      "-130248.932862\n",
      "-130248.964298\n",
      "-130249.021992\n",
      "-130249.089286\n",
      "-130249.108076\n",
      "-130249.14545\n",
      "-130249.143231\n",
      "-130249.199339\n",
      "-130249.240932\n",
      "-130249.282016\n",
      "-130249.287594\n",
      "-130249.327226\n",
      "-130249.352015\n",
      "-130249.364284\n",
      "-130249.42263\n",
      "-130249.437064\n",
      "-130249.466374\n",
      "-130249.460224\n",
      "-130249.502135\n",
      "-130249.524077\n",
      "-130249.53826\n",
      "-130249.572733\n",
      "-130249.569244\n",
      "-130249.572951\n",
      "-130249.581988\n",
      "-130249.61067\n",
      "-130249.617855\n",
      "-130249.650852\n",
      "-130249.659462\n",
      "-130249.678444\n",
      "-130249.698429\n",
      "-130249.709436\n",
      "-130249.710989\n",
      "-130249.736325\n",
      "-130249.728808\n",
      "-130249.762656\n",
      "-130249.76786\n",
      "-130249.779677\n",
      "-130249.796001\n",
      "-130249.811432\n",
      "-130249.821186\n",
      "-130249.815236\n",
      "-130249.847177\n",
      "-130249.845344\n",
      "-130249.842876\n",
      "-130249.871237\n",
      "-130249.872624\n",
      "-130249.883537\n",
      "-130249.872112\n",
      "-130249.894504\n",
      "-130249.91158\n",
      "-130249.913394\n",
      "-130249.912728\n",
      "-130249.944275\n",
      "-130249.931784\n",
      "-130249.940034\n",
      "-130249.953282\n",
      "-130249.960923\n",
      "-130249.965059\n",
      "-130249.980591\n",
      "-130249.978085\n",
      "-130249.992173\n",
      "-130249.996972\n",
      "-130250.000525\n",
      "-130250.010544\n",
      "-130250.003597\n",
      "-130250.010295\n",
      "-130250.030172\n",
      "-130250.028776\n",
      "-130250.036798\n",
      "-130250.050268\n",
      "-130250.04448\n",
      "-130250.058724\n",
      "-130250.046414\n",
      "-130250.056274\n",
      "-130250.066396\n",
      "-130250.067269\n",
      "-130250.086111\n",
      "-130250.079151\n",
      "-130250.090062\n",
      "-130250.095687\n",
      "-130250.109215\n",
      "-130250.086649\n",
      "-130250.104871\n",
      "-130250.113199\n",
      "-130250.109015\n",
      "-130250.123837\n",
      "-130250.117352\n",
      "-130250.113663\n",
      "-130250.129222\n",
      "-130250.126846\n",
      "-130250.141599\n",
      "-130250.143359\n",
      "-130250.152595\n",
      "-130250.14815\n",
      "-130250.14801\n",
      "-130250.160153\n",
      "-130250.159411\n",
      "-130250.148029\n",
      "-130250.160738\n",
      "-130250.176451\n",
      "-130250.174568\n",
      "-130250.181423\n",
      "-130250.1752\n",
      "-130250.178518\n",
      "-130250.200359\n",
      "-130250.194653\n",
      "-130250.180607\n",
      "-130250.193531\n",
      "-130250.202537\n",
      "-130250.178951\n",
      "-130250.201988\n",
      "-130250.212028\n",
      "-130250.212956\n",
      "-130250.216783\n",
      "-130250.216936\n",
      "-130250.217509\n",
      "-130250.213797\n",
      "-130250.212676\n",
      "-130250.22171\n",
      "-130250.223064\n",
      "-130250.230637\n",
      "-130250.226634\n",
      "-130250.236161\n",
      "-130250.234528\n",
      "-130250.234545\n",
      "-130250.228037\n",
      "-130250.243294\n",
      "-130250.243148\n",
      "-130250.255831\n",
      "-130250.247732\n",
      "-130250.247838\n",
      "-130250.256485\n",
      "-130250.254678\n",
      "-130250.260817\n",
      "-130250.261018\n",
      "-130250.254402\n",
      "-130250.260379\n",
      "-130250.259463\n",
      "-130250.262019\n",
      "-130250.268765\n",
      "-130250.269805\n",
      "-130250.276694\n",
      "-130250.271046\n",
      "-130250.273392\n",
      "-130250.280708\n",
      "-130250.273657\n",
      "-130250.285952\n",
      "-130250.27494\n",
      "-130250.285457\n",
      "-130250.283902\n",
      "-130250.292409\n",
      "-130250.289412\n",
      "-130250.294071\n",
      "-130250.296661\n",
      "-130250.292567\n",
      "-130250.296234\n",
      "-130250.290009\n",
      "-130250.291798\n",
      "-130250.300217\n",
      "-130250.304295\n",
      "-130250.309227\n",
      "-130250.300707\n",
      "-130250.297873\n",
      "-130250.309218\n",
      "-130250.307608\n",
      "-130250.310209\n",
      "-130250.307044\n",
      "-130250.317936\n",
      "-130250.312952\n",
      "-130250.320262\n",
      "-130250.313614\n",
      "-130250.312219\n",
      "-130250.320096\n",
      "-130250.321318\n",
      "-130250.323579\n",
      "-130250.324295\n",
      "-130250.32589\n",
      "-130250.328317\n",
      "-130250.335247\n",
      "-130250.329974\n",
      "-130250.325958\n",
      "-130250.336264\n",
      "-130250.335201\n",
      "-130250.337389\n",
      "-130250.340024\n",
      "-130250.346087\n",
      "-130250.332383\n",
      "-130250.337579\n",
      "-130250.334258\n",
      "-130250.347688\n",
      "-130250.34023\n",
      "-130250.342833\n",
      "-130250.34992\n",
      "-130250.346149\n",
      "-130250.348123\n",
      "-130250.34837\n",
      "-130250.347538\n",
      "-130250.353128\n",
      "-130250.354319\n",
      "-130250.357192\n",
      "-130250.347318\n",
      "-130250.362892\n",
      "-130250.35197\n",
      "-130250.348982\n",
      "-130250.369945\n",
      "-130250.358828\n",
      "-130250.361638\n",
      "-130250.367567\n",
      "-130250.361392\n",
      "-130250.362896\n",
      "-130250.368226\n",
      "-130250.368743\n",
      "-130250.364237\n",
      "-130250.365893\n",
      "-130250.365959\n",
      "-130250.372549\n",
      "-130250.362633\n",
      "-130250.377746\n",
      "-130250.371221\n",
      "-130250.375363\n",
      "-130250.376187\n",
      "-130250.376112\n",
      "-130250.375321\n",
      "-130250.374575\n",
      "-130250.389152\n",
      "-130250.378672\n",
      "-130250.375337\n",
      "-130250.380573\n",
      "-130250.375343\n",
      "-130250.383278\n",
      "-130250.377269\n",
      "-130250.383268\n",
      "-130250.388312\n",
      "-130250.393922\n",
      "-130250.380979\n",
      "-130250.386258\n",
      "-130250.395103\n",
      "-130250.395581\n",
      "-130250.395644\n",
      "-130250.396693\n",
      "-130250.387702\n",
      "-130250.388293\n",
      "-130250.38955\n",
      "-130250.395284\n",
      "-130250.387978\n",
      "-130250.396389\n",
      "-130250.389983\n",
      "-130250.394872\n",
      "-130250.394086\n",
      "-130250.392166\n",
      "-130250.399617\n",
      "-130250.407299\n",
      "-130250.401395\n",
      "-130250.401392\n",
      "-130250.397941\n",
      "-130250.40764\n",
      "-130250.401838\n",
      "-130250.405696\n",
      "-130250.409497\n",
      "-130250.408576\n",
      "-130250.410321\n",
      "-130250.411347\n",
      "-130250.402594\n",
      "-130250.404091\n",
      "-130250.408343\n",
      "-130250.403143\n",
      "-130250.41387\n",
      "-130250.412757\n",
      "-130250.416773\n",
      "-130250.415715\n",
      "-130250.409819\n",
      "-130250.419658\n",
      "-130250.408311\n",
      "-130250.413987\n",
      "-130250.41073\n",
      "-130250.418359\n",
      "-130250.419508\n",
      "-130250.412697\n",
      "-130250.41939\n",
      "-130250.418137\n",
      "-130250.418474\n",
      "-130250.423241\n",
      "-130250.418724\n",
      "-130250.416124\n",
      "-130250.416446\n",
      "-130250.425291\n",
      "-130250.422639\n",
      "-130250.42197\n",
      "-130250.426227\n",
      "-130250.42708\n",
      "-130250.431154\n",
      "-130250.418459\n",
      "-130250.425827\n",
      "-130250.426102\n",
      "-130250.424471\n",
      "-130250.429273\n",
      "-130250.426873\n",
      "-130250.42279\n",
      "-130250.425435\n",
      "-130250.434427\n",
      "-130250.431833\n",
      "-130250.434361\n",
      "-130250.437935\n",
      "-130250.435505\n",
      "-130250.439973\n",
      "-130250.429906\n",
      "-130250.427871\n",
      "-130250.437946\n",
      "-130250.432472\n",
      "-130250.433782\n",
      "-130250.430512\n",
      "-130250.430687\n",
      "-130250.437397\n",
      "-130250.437718\n",
      "-130250.438747\n",
      "-130250.43665\n",
      "-130250.434518\n",
      "-130250.438681\n",
      "-130250.439265\n",
      "-130250.435537\n",
      "-130250.441845\n",
      "-130250.440986\n",
      "-130250.435304\n",
      "-130250.44192\n",
      "-130250.449473\n",
      "-130250.439486\n",
      "-130250.44069\n",
      "-130250.44742\n",
      "-130250.439505\n",
      "-130250.441071\n",
      "-130250.43665\n",
      "-130250.443411\n",
      "-130250.444522\n",
      "-130250.451125\n",
      "-130250.456281\n",
      "-130250.44692\n",
      "-130250.44601\n",
      "-130250.454715\n",
      "-130250.451398\n",
      "-130250.453693\n",
      "-130250.450402\n",
      "-130250.443073\n",
      "-130250.449123\n",
      "-130250.444647\n",
      "-130250.453911\n",
      "-130250.442305\n",
      "-130250.451811\n",
      "-130250.456517\n",
      "-130250.449933\n",
      "-130250.453526\n",
      "-130250.450894\n",
      "-130250.46031\n",
      "-130250.457677\n",
      "-130250.45532\n",
      "-130250.451837\n",
      "-130250.453441\n",
      "-130250.452346\n",
      "-130250.455653\n",
      "-130250.455521\n",
      "-130250.451189\n",
      "-130250.455546\n",
      "-130250.461122\n",
      "-130250.459015\n",
      "-130250.456121\n",
      "-130250.456649\n",
      "-130250.463854\n",
      "-130250.457871\n",
      "-130250.459251\n",
      "-130250.458183\n",
      "-130250.464727\n",
      "-130250.466969\n",
      "-130250.461052\n",
      "-130250.464058\n",
      "-130250.468175\n",
      "-130250.457662\n",
      "-130250.458966\n",
      "-130250.459225\n",
      "-130250.463807\n",
      "-130250.465142\n",
      "-130250.459298\n",
      "-130250.474227\n",
      "-130250.468521\n",
      "-130250.461361\n",
      "-130250.466949\n",
      "-130250.467597\n",
      "-130250.469171\n",
      "-130250.466274\n",
      "-130250.467706\n",
      "-130250.472097\n",
      "-130250.463458\n",
      "-130250.465123\n",
      "-130250.471026\n",
      "-130250.465636\n",
      "-130250.466335\n",
      "-130250.470802\n",
      "-130250.466945\n",
      "-130250.47243\n",
      "-130250.468012\n",
      "-130250.468679\n",
      "-130250.476623\n",
      "-130250.472126\n",
      "-130250.467621\n",
      "-130250.478808\n",
      "-130250.470444\n",
      "-130250.472531\n",
      "-130250.466387\n",
      "-130250.466191\n",
      "-130250.475172\n",
      "-130250.481782\n",
      "-130250.473368\n",
      "-130250.472248\n",
      "-130250.473628\n",
      "-130250.476591\n",
      "-130250.475979\n",
      "-130250.474515\n",
      "-130250.473964\n",
      "-130250.481528\n",
      "-130250.479033\n",
      "-130250.475399\n",
      "-130250.479724\n",
      "-130250.474539\n",
      "-130250.479246\n",
      "-130250.478281\n",
      "-130250.473277\n",
      "-130250.476746\n",
      "-130250.476123\n",
      "-130250.476202\n",
      "-130250.476475\n",
      "-130250.482403\n",
      "-130250.483276\n",
      "-130250.477662\n",
      "-130250.476083\n",
      "-130250.478612\n",
      "-130250.480865\n",
      "-130250.48438\n",
      "-130250.476825\n",
      "-130250.479087\n",
      "-130250.487059\n",
      "-130250.485893\n",
      "-130250.48523\n",
      "-130250.483885\n",
      "-130250.484829\n",
      "-130250.488876\n",
      "-130250.483888\n",
      "-130250.486854\n",
      "-130250.483942\n",
      "-130250.482868\n",
      "-130250.483443\n",
      "-130250.484739\n",
      "-130250.491129\n",
      "-130250.482114\n",
      "-130250.484512\n",
      "-130250.483628\n",
      "-130250.485045\n",
      "-130250.493633\n",
      "-130250.483616\n",
      "-130250.49017\n",
      "-130250.486965\n",
      "-130250.481531\n",
      "-130250.488113\n",
      "-130250.484019\n",
      "-130250.485074\n",
      "-130250.491047\n",
      "-130250.493723\n",
      "-130250.489698\n",
      "-130250.485649\n",
      "-130250.489702\n",
      "-130250.489153\n",
      "-130250.492396\n",
      "-130250.48922\n",
      "-130250.490581\n",
      "-130250.488919\n",
      "-130250.487946\n",
      "-130250.492224\n",
      "-130250.494265\n",
      "-130250.490625\n",
      "-130250.492026\n",
      "-130250.495749\n",
      "-130250.495916\n",
      "-130250.490452\n",
      "-130250.492453\n",
      "-130250.494752\n",
      "-130250.491098\n",
      "-130250.487445\n",
      "-130250.495786\n",
      "-130250.499391\n",
      "-130250.495275\n",
      "-130250.498329\n",
      "-130250.493431\n",
      "-130250.496325\n",
      "-130250.500356\n",
      "-130250.49251\n",
      "-130250.49295\n",
      "-130250.493424\n",
      "-130250.497333\n",
      "-130250.498027\n",
      "-130250.496666\n",
      "-130250.494945\n",
      "-130250.499448\n",
      "-130250.500988\n",
      "-130250.497292\n",
      "-130250.491187\n",
      "-130250.498914\n",
      "-130250.498057\n",
      "-130250.4978\n",
      "-130250.500989\n",
      "-130250.501029\n",
      "-130250.497525\n",
      "-130250.498012\n"
     ]
    },
    {
     "name": "stdout",
     "output_type": "stream",
     "text": [
      "-130250.495507\n",
      "-130250.500991\n",
      "-130250.503705\n",
      "-130250.500999\n",
      "-130250.497343\n",
      "-130250.500032\n",
      "-130250.503623\n"
     ]
    }
   ],
   "source": [
    "for _ in tqdm(range(1000)):\n",
    "    for d in range(M):\n",
    "        doc = corpus[d]\n",
    "        N_d = len(doc)\n",
    "        for n in range(N_d):\n",
    "            gamma_sum = gamma_.sum(axis=1)\n",
    "            lambda_sum = lambda_.sum(axis=0)\n",
    "            w = int(doc[n][0])\n",
    "            for i in range(k):\n",
    "                gamma_di = gamma_[d, i]\n",
    "                lambda_wi = lambda_[w, i]\n",
    "                q_[d,w,i] = np.exp(digamma(gamma_di) - digamma(gamma_sum)[i] + digamma(lambda_wi) - digamma(lambda_sum)[i])\n",
    "                gamma_[d,i] += q_.sum(axis=1)[d,i]\n",
    "                lambda_[w,i] += q_.sum(axis=0)[w,i]\n",
    "    alpha = gamma_ - np.sum(q_,axis=1)\n",
    "    eta = lambda_ - np.sum(q_,axis=0)\n",
    "    log_per = 0.0\n",
    "    for _ in range(100):\n",
    "        theta = np.array([np.random.dirichlet(a) for a in alpha])\n",
    "        beta = np.array([np.random.dirichlet(e) for e in eta])\n",
    "        p_w = np.inner(theta, beta)\n",
    "        log_per += np.log(p_w).sum()\n",
    "    log_per = log_per/100\n",
    "    print(log_per)\n"
   ]
  },
  {
   "cell_type": "code",
   "execution_count": null,
   "metadata": {},
   "outputs": [],
   "source": [
    "for i in range(k):\n",
    "    print(\"# \", i)\n",
    "    for t in sorted([(i,rate) for (i,rate) in enumerate(beta.T[i])], key=lambda t: t[1],reverse=True)[:10]:\n",
    "        print(dictionary[t[0]],\" : \",t[1])\n",
    "    print(\"\\n\")"
   ]
  },
  {
   "cell_type": "code",
   "execution_count": null,
   "metadata": {},
   "outputs": [],
   "source": [
    "theta = np.array([np.random.dirichlet(a) for a in alpha])\n",
    "beta = np.array([np.random.dirichlet(e) for e in eta])"
   ]
  },
  {
   "cell_type": "code",
   "execution_count": null,
   "metadata": {},
   "outputs": [],
   "source": []
  },
  {
   "cell_type": "code",
   "execution_count": null,
   "metadata": {},
   "outputs": [],
   "source": [
    "theta.shape"
   ]
  },
  {
   "cell_type": "code",
   "execution_count": null,
   "metadata": {},
   "outputs": [],
   "source": [
    "beta.shape"
   ]
  },
  {
   "cell_type": "code",
   "execution_count": null,
   "metadata": {},
   "outputs": [],
   "source": [
    "np.inner(theta, beta).shape"
   ]
  },
  {
   "cell_type": "code",
   "execution_count": null,
   "metadata": {},
   "outputs": [],
   "source": [
    "np.log(np.inner(theta, beta)).sum()"
   ]
  },
  {
   "cell_type": "code",
   "execution_count": null,
   "metadata": {},
   "outputs": [],
   "source": [
    "def normliation(q):\n",
    "    return q/q.sum(axis=0)"
   ]
  },
  {
   "cell_type": "code",
   "execution_count": null,
   "metadata": {},
   "outputs": [],
   "source": [
    "q_theta = normliation(np.array([np.random.dirichlet(g) for g in gamma_]).prod(axis=0))\n",
    "q_beta = normliation(np.array([np.random.dirichlet(l) for l in lambda_]).prod(axis=1))\n",
    "q_z = q_[d,w,i].prod()"
   ]
  },
  {
   "cell_type": "code",
   "execution_count": null,
   "metadata": {},
   "outputs": [],
   "source": [
    "q_z"
   ]
  },
  {
   "cell_type": "code",
   "execution_count": null,
   "metadata": {},
   "outputs": [],
   "source": [
    "q_theta.shape"
   ]
  },
  {
   "cell_type": "code",
   "execution_count": null,
   "metadata": {},
   "outputs": [],
   "source": [
    "q_beta.shape"
   ]
  },
  {
   "cell_type": "code",
   "execution_count": null,
   "metadata": {},
   "outputs": [],
   "source": [
    "theta = np.array([np.random.dirichlet(g) for g in gamma_])"
   ]
  },
  {
   "cell_type": "code",
   "execution_count": null,
   "metadata": {},
   "outputs": [],
   "source": []
  },
  {
   "cell_type": "code",
   "execution_count": null,
   "metadata": {},
   "outputs": [],
   "source": [
    "theta"
   ]
  },
  {
   "cell_type": "code",
   "execution_count": null,
   "metadata": {},
   "outputs": [],
   "source": [
    "from scipy import stats\n",
    "\n",
    "\n",
    "def d_KL(p1,p2):\n",
    "    return stats.entropy(p1, p2, 2)"
   ]
  },
  {
   "cell_type": "code",
   "execution_count": null,
   "metadata": {},
   "outputs": [],
   "source": []
  }
 ],
 "metadata": {
  "kernelspec": {
   "display_name": "Environment (conda_py36)",
   "language": "python",
   "name": "conda_py36"
  }
 },
 "nbformat": 4,
 "nbformat_minor": 2
}
