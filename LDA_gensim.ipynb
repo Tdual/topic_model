{
 "cells": [
  {
   "cell_type": "markdown",
   "metadata": {},
   "source": [
    "## install mecab on mac\n",
    "```\n",
    "brew install mecab mecab-ipadic  \n",
    "pip install mecab-python3\n",
    "```"
   ]
  },
  {
   "cell_type": "markdown",
   "metadata": {},
   "source": [
    "## install neolog\n",
    "```\n",
    "git clone --depth 1 https://github.com/neologd/mecab-ipadic-neologd.git\n",
    "cd mecab-ipadic-neologd\n",
    "./bin/install-mecab-ipadic-neologd -n\n",
    "```"
   ]
  },
  {
   "cell_type": "markdown",
   "metadata": {},
   "source": [
    "## get Japanese articles\n",
    "livedoor ニュースコーパス\n",
    "\n",
    "```\n",
    "wget https://www.rondhuit.com/download/ldcc-20140209.tar.gz\n",
    "tar xvzf ldcc-20140209.tar.gz\n",
    "```"
   ]
  },
  {
   "cell_type": "code",
   "execution_count": 1,
   "metadata": {
    "collapsed": false
   },
   "outputs": [],
   "source": [
    "import MeCab\n",
    "from urllib import request \n",
    "from pathlib import Path\n",
    "from gensim import corpora, models\n",
    "import numpy as np\n",
    "import tqdm"
   ]
  },
  {
   "cell_type": "code",
   "execution_count": 2,
   "metadata": {
    "collapsed": false
   },
   "outputs": [],
   "source": [
    "mecab = MeCab.Tagger(\"-Ochasen -d /usr/local/lib/mecab/dic/mecab-ipadic-neologd/\")"
   ]
  },
  {
   "cell_type": "code",
   "execution_count": 10,
   "metadata": {
    "collapsed": false
   },
   "outputs": [
    {
     "data": {
      "text/plain": [
       "[['今日', 'キョウ', '今日', '名詞-副詞可能', '', ''],\n",
       " ['も', 'モ', 'も', '助詞-係助詞', '', ''],\n",
       " ['1日', 'ツイタチ', '1日', '名詞-固有名詞-一般', '', ''],\n",
       " ['がん', 'ガン', 'がん', '名詞-一般', '', ''],\n",
       " ['ばる', 'バル', 'バル', '名詞-一般', '', ''],\n",
       " ['ぞい', 'ゾイ', 'ぞい', '名詞-接尾-一般', '', ''],\n",
       " ['！', '！', '！', '記号-一般', '', ''],\n",
       " ['EOS'],\n",
       " ['']]"
      ]
     },
     "execution_count": 10,
     "metadata": {},
     "output_type": "execute_result"
    }
   ],
   "source": [
    "[line.split(\"\\t\") for line in mecab.parse(\"今日も1日がんばるぞい！\").split(\"\\n\")]"
   ]
  },
  {
   "cell_type": "code",
   "execution_count": 4,
   "metadata": {
    "collapsed": false
   },
   "outputs": [
    {
     "data": {
      "text/plain": [
       "[PosixPath('text/dokujo-tsushin'),\n",
       " PosixPath('text/it-life-hack'),\n",
       " PosixPath('text/kaden-channel'),\n",
       " PosixPath('text/livedoor-homme'),\n",
       " PosixPath('text/movie-enter'),\n",
       " PosixPath('text/peachy'),\n",
       " PosixPath('text/smax'),\n",
       " PosixPath('text/sports-watch'),\n",
       " PosixPath('text/topic-news')]"
      ]
     },
     "execution_count": 4,
     "metadata": {},
     "output_type": "execute_result"
    }
   ],
   "source": [
    "doc_dir = Path(\"./text/\")\n",
    "dirs = [i for i in doc_dir.iterdir() if i.is_dir()]\n",
    "dirs"
   ]
  },
  {
   "cell_type": "code",
   "execution_count": 5,
   "metadata": {
    "collapsed": false
   },
   "outputs": [],
   "source": [
    "articles = [a for categ in dirs for a in categ.iterdir()]"
   ]
  },
  {
   "cell_type": "code",
   "execution_count": 6,
   "metadata": {
    "collapsed": false
   },
   "outputs": [
    {
     "data": {
      "text/plain": [
       "7376"
      ]
     },
     "execution_count": 6,
     "metadata": {},
     "output_type": "execute_result"
    }
   ],
   "source": [
    "len(articles)"
   ]
  },
  {
   "cell_type": "code",
   "execution_count": 66,
   "metadata": {
    "collapsed": true
   },
   "outputs": [],
   "source": [
    "def read_doc(doc_id):\n",
    "    with articles[doc_id].open() as f:\n",
    "        print(f.read())"
   ]
  },
  {
   "cell_type": "code",
   "execution_count": 7,
   "metadata": {
    "collapsed": false,
    "scrolled": true
   },
   "outputs": [],
   "source": [
    "res = request.urlopen(\"http://svn.sourceforge.jp/svnroot/slothlib/CSharp/Version1/SlothLib/NLP/Filter/StopWord/word/Japanese.txt\")\n",
    "stopwords = [line.decode(\"utf-8\").strip() for line in res]"
   ]
  },
  {
   "cell_type": "code",
   "execution_count": 45,
   "metadata": {
    "collapsed": false
   },
   "outputs": [
    {
     "data": {
      "text/plain": [
       "['自分自身', '若さ故の過ち']"
      ]
     },
     "execution_count": 45,
     "metadata": {},
     "output_type": "execute_result"
    }
   ],
   "source": [
    "def tokenizer(text):\n",
    "    l = [line.split(\"\\t\") for line in mecab.parse(text).split(\"\\n\")]\n",
    "    res = [i[0] for i in l \n",
    "                   if len(i) >=4 \n",
    "                       and (\"名詞\" in i[3] )#or \"動詞\" in i[3] or \"形容詞\" in i[3] )\n",
    "                       and \"数\" not in i[3] and \"助動詞\" not in i[3] \n",
    "                       and i[0] not in stopwords\n",
    "            ]\n",
    "    return res\n",
    "tokenizer(\"認めたくないものだな。自分自身の若さ故の過ちというものを。\")"
   ]
  },
  {
   "cell_type": "code",
   "execution_count": 11,
   "metadata": {
    "collapsed": false
   },
   "outputs": [
    {
     "name": "stderr",
     "output_type": "stream",
     "text": [
      "100%|██████████| 7376/7376 [00:30<00:00, 241.02it/s]\n"
     ]
    }
   ],
   "source": [
    "docs = []\n",
    "for a in tqdm.tqdm(articles):\n",
    "    with a.open() as f:\n",
    "        f.readline()\n",
    "        f.readline()\n",
    "        docs.append(tokenizer(f.read()))"
   ]
  },
  {
   "cell_type": "code",
   "execution_count": 12,
   "metadata": {
    "collapsed": false
   },
   "outputs": [
    {
     "data": {
      "text/plain": [
       "['友人', '代表', 'スピーチ', '独女', 'こなし', 'いる', 'ジューン・ブライド', '呼ば', 'れる', '６月']"
      ]
     },
     "execution_count": 12,
     "metadata": {},
     "output_type": "execute_result"
    }
   ],
   "source": [
    "docs[0][:10]"
   ]
  },
  {
   "cell_type": "code",
   "execution_count": 13,
   "metadata": {
    "collapsed": false
   },
   "outputs": [],
   "source": [
    "no_below = 5\n",
    "no_above = 0.2\n",
    "d = corpora.Dictionary(docs)\n",
    "d.filter_extremes(no_below, no_above)\n",
    "d.compactify()"
   ]
  },
  {
   "cell_type": "code",
   "execution_count": 14,
   "metadata": {
    "collapsed": false
   },
   "outputs": [
    {
     "data": {
      "text/plain": [
       "26209"
      ]
     },
     "execution_count": 14,
     "metadata": {},
     "output_type": "execute_result"
    }
   ],
   "source": [
    "dic_num = len(d)\n",
    "dic_num"
   ]
  },
  {
   "cell_type": "code",
   "execution_count": 15,
   "metadata": {
    "collapsed": false
   },
   "outputs": [
    {
     "data": {
      "text/plain": [
       "[(0, 1), (1, 1), (2, 1), (3, 1), (4, 1), (5, 1), (6, 1)]"
      ]
     },
     "execution_count": 15,
     "metadata": {},
     "output_type": "execute_result"
    }
   ],
   "source": [
    "d.doc2bow(docs[0][:10])"
   ]
  },
  {
   "cell_type": "markdown",
   "metadata": {},
   "source": [
    "(id, count)"
   ]
  },
  {
   "cell_type": "code",
   "execution_count": 16,
   "metadata": {
    "collapsed": false
   },
   "outputs": [
    {
     "data": {
      "text/plain": [
       "'お祝い'"
      ]
     },
     "execution_count": 16,
     "metadata": {},
     "output_type": "execute_result"
    }
   ],
   "source": [
    "d[7] # get word from id"
   ]
  },
  {
   "cell_type": "code",
   "execution_count": 55,
   "metadata": {
    "collapsed": false
   },
   "outputs": [],
   "source": [
    "corpus = [d.doc2bow(w) for w in docs]"
   ]
  },
  {
   "cell_type": "code",
   "execution_count": 56,
   "metadata": {
    "collapsed": false
   },
   "outputs": [
    {
     "data": {
      "text/plain": [
       "1496217"
      ]
     },
     "execution_count": 56,
     "metadata": {},
     "output_type": "execute_result"
    }
   ],
   "source": [
    "corpus_words = sum(count for doc in corpus for id, count in doc)\n",
    "corpus_words"
   ]
  },
  {
   "cell_type": "code",
   "execution_count": 64,
   "metadata": {
    "collapsed": true
   },
   "outputs": [],
   "source": [
    "num_topics = 100"
   ]
  },
  {
   "cell_type": "code",
   "execution_count": 65,
   "metadata": {
    "collapsed": false
   },
   "outputs": [],
   "source": [
    "lda = models.ldamodel.LdaModel(corpus=corpus, id2word=d, num_topics=num_topics, iterations=100, passes=5)"
   ]
  },
  {
   "cell_type": "code",
   "execution_count": 68,
   "metadata": {
    "collapsed": false
   },
   "outputs": [
    {
     "data": {
      "text/plain": [
       "[(83,\n",
       "  '0.090*\"MAX\" + 0.088*\"S\" + 0.064*\"エスマックス\" + 0.030*\"smaxjp\" + 0.028*\"関連リンク\" + 0.024*\"on\" + 0.019*\"ライブドアブログ\" + 0.018*\"向け\" + 0.018*\"執筆\" + 0.014*\"Twitter\"'),\n",
       " (73,\n",
       "  '0.045*\"離婚\" + 0.018*\"浮気\" + 0.016*\"週間ランキング\" + 0.016*\"2位\" + 0.015*\"1位\" + 0.015*\"3位\" + 0.013*\"原因\" + 0.011*\"プログラム\" + 0.010*\"手術\" + 0.010*\"クレンジング\"'),\n",
       " (87,\n",
       "  '0.034*\"B\" + 0.030*\"ファイル\" + 0.029*\"データ\" + 0.027*\"擁護\" + 0.021*\"ダウンロード\" + 0.017*\"コピー\" + 0.017*\"動画\" + 0.016*\"共有\" + 0.015*\"C\" + 0.014*\"A\"'),\n",
       " (38,\n",
       "  '0.082*\"転職\" + 0.029*\"求人\" + 0.028*\"play\" + 0.022*\"google\" + 0.021*\"livedoor\" + 0.018*\"パス\" + 0.016*\"求人情報\" + 0.015*\"マッチ\" + 0.015*\"判断\" + 0.015*\"type\"'),\n",
       " (97,\n",
       "  '0.032*\"声\" + 0.031*\"批判\" + 0.023*\"発言\" + 0.017*\"コメント\" + 0.016*\"寄せ\" + 0.016*\"報じ\" + 0.014*\"番組\" + 0.012*\"てる\" + 0.012*\"意見\" + 0.012*\"放送\"')]"
      ]
     },
     "execution_count": 68,
     "metadata": {},
     "output_type": "execute_result"
    }
   ],
   "source": [
    "lda.print_topics(5)"
   ]
  },
  {
   "cell_type": "markdown",
   "metadata": {},
   "source": [
    "## see on tensorboard\n",
    "\n",
    "http://projector.tensorflow.org/  \n",
    "ref: https://github.com/RaRe-Technologies/gensim/blob/develop/docs/notebooks/Tensorboard_visualizations.ipynb\n"
   ]
  },
  {
   "cell_type": "code",
   "execution_count": null,
   "metadata": {
    "collapsed": false
   },
   "outputs": [],
   "source": [
    "all_topics = lda.get_document_topics(corpus, minimum_probability=0)\n",
    "all_topics[0]"
   ]
  },
  {
   "cell_type": "code",
   "execution_count": null,
   "metadata": {
    "collapsed": false
   },
   "outputs": [],
   "source": [
    "with open('doc_lda_tensor.tsv','w') as w:\n",
    "    for doc_topics in all_topics:\n",
    "        for topics in doc_topics:\n",
    "            w.write(str(topics[1])+ \"\\t\")\n",
    "        w.write(\"\\n\")    "
   ]
  },
  {
   "cell_type": "code",
   "execution_count": null,
   "metadata": {
    "collapsed": false
   },
   "outputs": [],
   "source": [
    "meta = [str(a).split(\"/\") for a in articles]"
   ]
  },
  {
   "cell_type": "code",
   "execution_count": null,
   "metadata": {
    "collapsed": false
   },
   "outputs": [],
   "source": [
    "meta[0]"
   ]
  },
  {
   "cell_type": "code",
   "execution_count": null,
   "metadata": {
    "collapsed": false
   },
   "outputs": [],
   "source": [
    "with open('doc_lda_metadata.tsv','w') as w:\n",
    "    w.write('Titles\\tGenres\\n')\n",
    "    for m in meta:\n",
    "        w.write(\"%s\\t%s\\n\" % (m[1][:2], m[1]))"
   ]
  },
  {
   "cell_type": "markdown",
   "metadata": {},
   "source": [
    "## perplexity"
   ]
  },
  {
   "cell_type": "code",
   "execution_count": null,
   "metadata": {
    "collapsed": false
   },
   "outputs": [],
   "source": [
    "lda.log_perplexity(corpus)"
   ]
  },
  {
   "cell_type": "markdown",
   "metadata": {},
   "source": [
    "Estimate the variational bound of documents from corpus: E_q[log p(corpus)] - E_q[log q(corpus)]"
   ]
  },
  {
   "cell_type": "code",
   "execution_count": null,
   "metadata": {
    "collapsed": false
   },
   "outputs": [],
   "source": [
    "bound = lda.bound(corpus)/corpus_words\n",
    "bound #= lda.log_perplexity(corpus)"
   ]
  },
  {
   "cell_type": "code",
   "execution_count": null,
   "metadata": {
    "collapsed": true
   },
   "outputs": [],
   "source": [
    "import numpy as np"
   ]
  },
  {
   "cell_type": "code",
   "execution_count": null,
   "metadata": {
    "collapsed": false
   },
   "outputs": [],
   "source": [
    "perplexity = np.exp2(-bound ) # 2^(-bound per words)"
   ]
  },
  {
   "cell_type": "code",
   "execution_count": null,
   "metadata": {
    "collapsed": false
   },
   "outputs": [],
   "source": [
    "lda.top_topics(corpus=corpus, num_words=10)"
   ]
  },
  {
   "cell_type": "code",
   "execution_count": null,
   "metadata": {
    "collapsed": false
   },
   "outputs": [],
   "source": []
  },
  {
   "cell_type": "markdown",
   "metadata": {},
   "source": [
    "## 類似度"
   ]
  },
  {
   "cell_type": "code",
   "execution_count": 19,
   "metadata": {
    "collapsed": true
   },
   "outputs": [],
   "source": [
    "#corpora.BleiCorpus.serialize(\"./corpus.blei\", corpus)\n",
    "#blei_corpus = corpora.BleiCorpus('./corpus.blei', './corpus.blei.vocab')\n",
    "#model = models.ldamodel.LdaModel(corpus,num_topics=100,id2word=corpus.id2word)"
   ]
  },
  {
   "cell_type": "code",
   "execution_count": 82,
   "metadata": {
    "collapsed": true
   },
   "outputs": [],
   "source": [
    "doc_topics = [lda[c] for c in corpus]"
   ]
  },
  {
   "cell_type": "code",
   "execution_count": 83,
   "metadata": {
    "collapsed": false
   },
   "outputs": [
    {
     "data": {
      "text/plain": [
       "[(1, 0.024539963729934569),\n",
       " (4, 0.22117063381154689),\n",
       " (13, 0.018797915308231414),\n",
       " (22, 0.015263599413199113),\n",
       " (30, 0.22314544956859694),\n",
       " (36, 0.010602068241370506),\n",
       " (41, 0.051402785541291858),\n",
       " (47, 0.042586155933477775),\n",
       " (55, 0.061647037899655185),\n",
       " (57, 0.10323390553823665),\n",
       " (75, 0.040703228018363902),\n",
       " (91, 0.083498075042254052),\n",
       " (97, 0.044532086413806092),\n",
       " (99, 0.04200734705002112)]"
      ]
     },
     "execution_count": 83,
     "metadata": {},
     "output_type": "execute_result"
    }
   ],
   "source": [
    "doc_topics[0]"
   ]
  },
  {
   "cell_type": "code",
   "execution_count": 84,
   "metadata": {
    "collapsed": false
   },
   "outputs": [
    {
     "data": {
      "text/plain": [
       "7376"
      ]
     },
     "execution_count": 84,
     "metadata": {},
     "output_type": "execute_result"
    }
   ],
   "source": [
    "len(doc_topics) #  = len(article)"
   ]
  },
  {
   "cell_type": "markdown",
   "metadata": {},
   "source": [
    "$$\n",
    "\\text{doc_id(7376)}\n",
    "\\underbrace{\n",
    "\\begin{pmatrix}\n",
    "0 & 0.024539963729934569 & 0 & \\cdots & 0\\\\\n",
    "0 & 0 & 0 & \\cdots & 0\\\\\n",
    "0 & 0 & 0 & \\cdots & 0\\\\\n",
    "\\vdots & \\vdots & \\vdots & \\vdots & \\vdots\\\\\n",
    "0 & 0 & 0 & \\cdots & 0\n",
    "\\end{pmatrix}\n",
    "}_{\\text{topics(100)}}\n",
    "$$"
   ]
  },
  {
   "cell_type": "code",
   "execution_count": 88,
   "metadata": {
    "collapsed": false
   },
   "outputs": [],
   "source": [
    "dense = np.zeros( (len(doc_topics), num_topics), float)\n",
    "for doc_id, t in enumerate(doc_topics):\n",
    "    for topic_id, weight in t:\n",
    "        dense[doc_id, topic_id] = weight"
   ]
  },
  {
   "cell_type": "code",
   "execution_count": 100,
   "metadata": {
    "collapsed": false
   },
   "outputs": [],
   "source": [
    "from scipy.spatial import distance\n",
    "pairwise = distance.squareform(distance.pdist(dense))"
   ]
  },
  {
   "cell_type": "code",
   "execution_count": 122,
   "metadata": {
    "collapsed": false
   },
   "outputs": [],
   "source": [
    "def similar_to(doc_id, num=5, distance=False):\n",
    "    doc = pairwise[doc_id]\n",
    "    ids = np.argsort(doc)[1: num+1] # most similar is self.\n",
    "    if distance:\n",
    "        return [(x,y) for x, y in zip(ids,  np.sort(x)[1: num+1])]\n",
    "    else:\n",
    "        return ids"
   ]
  },
  {
   "cell_type": "code",
   "execution_count": 123,
   "metadata": {
    "collapsed": false
   },
   "outputs": [
    {
     "data": {
      "text/plain": [
       "[(730, 0.20323303971602655),\n",
       " (149, 0.23860101443188048),\n",
       " (325, 0.24659415533439674),\n",
       " (2693, 0.27762505985769631),\n",
       " (2690, 0.2805878942847832)]"
      ]
     },
     "execution_count": 123,
     "metadata": {},
     "output_type": "execute_result"
    }
   ],
   "source": [
    "similar_to(0, distance=True)"
   ]
  },
  {
   "cell_type": "code",
   "execution_count": 125,
   "metadata": {
    "collapsed": false
   },
   "outputs": [
    {
     "name": "stdout",
     "output_type": "stream",
     "text": [
      "http://news.livedoor.com/article/detail/4778030/\n",
      "2010-05-22T14:30:00+0900\n",
      "友人代表のスピーチ、独女はどうこなしている？\n",
      "　もうすぐジューン・ブライドと呼ばれる６月。独女の中には自分の式はまだなのに呼ばれてばかり……という「お祝い貧乏」状態の人も多いのではないだろうか？　さらに出席回数を重ねていくと、こんなお願いごとをされることも少なくない。\n",
      "\n",
      "　「お願いがあるんだけど……友人代表のスピーチ、やってくれないかな？」\n",
      "\n",
      "　さてそんなとき、独女はどう対応したらいいか？\n",
      "\n",
      "　最近だとインターネット等で検索すれば友人代表スピーチ用の例文サイトがたくさん出てくるので、それらを参考にすれば、無難なものは誰でも作成できる。しかし由利さん（33歳）はネットを参考にして作成したものの「これで本当にいいのか不安でした。一人暮らしなので聞かせて感想をいってくれる人もいないし、かといって他の友人にわざわざ聞かせるのもどうかと思うし……」ということで活用したのが、なんとインターネットの悩み相談サイトに。そこに作成したスピーチ文を掲載し「これで大丈夫か添削してください」とメッセージを送ったというのである。\n",
      "\n",
      "　「一晩で3人位の人が添削してくれましたよ。ちなみに自分以外にもそういう人はたくさんいて、その相談サイトには同じように添削をお願いする投稿がいっぱいありました」（由利さん）。ためしに教えてもらったそのサイトをみてみると、確かに「結婚式のスピーチの添削お願いします」という投稿が1000件を超えるくらいあった。めでたい結婚式の影でこんなネットコミュニティがあったとは知らなかった。\n",
      "\n",
      "　しかし「事前にお願いされるスピーチなら準備ができるしまだいいですよ。一番嫌なのは何といってもサプライズスピーチ！」と語るのは昨年だけで10万以上お祝いにかかったというお祝い貧乏独女の薫さん（35歳）\n",
      "\n",
      "　「私は基本的に人前で話すのが苦手なんですよ。だからいきなり指名されるとしどろもどろになって何もいえなくなる。そうすると自己嫌悪に陥って終わった後でもまったく楽しめなくなりますね」\n",
      "　\n",
      "　サプライズスピーチのメリットとしては、準備していない状態なので、フランクな本音をしゃべってもらえるという楽しさがあるようだ。しかしそれも上手に対応できる人ならいいが、苦手な人の場合だと「フランク」ではなく「しどろもどろ」になる危険性大。ちなみにプロの司会者の場合、本当のサプライズではなく式の最中に「のちほどサプライズスピーチとしてご指名させていただきます」という一言があることも多いようだが、薫さん曰く「そんな何分前に言われても無理！」らしい。要は「サプライズを楽しめる」というタイプの人選が大切ということか。\n",
      "\n",
      "　一方「ありきたりじゃつまらないし、ネットで例文を検索している際に『こんな方法もあるのか！』って思って取り入れました」という幸恵さん（30歳）が行ったスピーチは「手紙形式のスピーチ」というもの。\n",
      "\n",
      "　「○○ちゃんへ　みたいな感じで新婦の友人にお手紙を書いて読み上げるやり方です。これなら多少フランクな書き方でも大丈夫だし、何より暗記しないで堂々と読み上げることができますよね。読んだものはそのまま友人にあげれば一応記念にもなります」（幸恵さん）\n",
      "なるほど、確かにこれなら読みあげればいいだけなので、人前で話すのが苦手な人でも失敗しないかもしれない。\n",
      "\n",
      "　主役はあくまで新郎新婦ながらも、いざとなると緊張し、内容もあれこれ考えて、こっそりリハーサル……そんな人知れず頑張るスピーチ担当独女たちにも幸あれ（高山惠）\n",
      "\n"
     ]
    }
   ],
   "source": [
    "read_doc(0)"
   ]
  },
  {
   "cell_type": "code",
   "execution_count": 126,
   "metadata": {
    "collapsed": false
   },
   "outputs": [
    {
     "name": "stdout",
     "output_type": "stream",
     "text": [
      "http://news.livedoor.com/article/detail/6528405/\n",
      "2012-05-04T10:00:00+0900\n",
      "なぜモテない？！料理男子\n",
      "このところ、速水もこみちや向井理など料理上手なイメケンが人気だ。爽やかな笑顔で手際よく料理をする様子を見ていると「料理ができる男性って素敵！」と思ってしまうのだが…。身近な料理男子たちはモテとは無縁らしい。それはなぜ？\n",
      "家電メーカーに勤務する涼さん（27歳）は、弟と二人暮らし。節約も兼ねて二人で交互に弁当や夕食を作っているせいか、その腕前もなかなかのもの。「…だからといって僕も弟もモテることはありません。同僚の女性たちと一緒に弁当を食べていますが、僕が料理の話を始めると軽くスルーされます。料理って男女共通の話題だと思っていたんですが、そうでもないようです」と話してくれた。\n",
      "\n",
      "身近な独女たちに涼さんの話をしてみると「料理をする男性はウンチクが多いから、スルーしたくなる気持ちは分かる」「女性だからといって、みんなが料理に関心があるわけではないから話を振られても困ると思う」といった意見が飛び出した。涼さんは料理の腕前を自慢するようなタイプではないのだが、ちょっとした知識が女性たちには自慢に聞こえてしまうのかもしれない。\n",
      "\n",
      "「ついつい“こだわり”を語って失敗しています」と話してくれたのは、自炊歴10年の健一さん（28歳・研究職）。「自分で炊いたご飯と初めて焼いたシャケの美味しさで料理に目覚めました。理系のせいか調味料はレシピ通りにキチっと測ります。そうすると大抵のものは美味しくできるんですよ」と健一さん。ケーキやクッキーも得意だ。\n",
      "「出汁は昆布と鰹節でとります。醤油は濃口と薄口を料理によって使い分けていますし、鍋類にもこだわりがあります。料理のことを話し始めると自分なりのこだわりを熱く語っちゃうんですよ。案外、男同士だと意気投合するんですけど、女性には確実にドン引かれます（苦笑）」\n",
      "\n",
      "健一さんの後輩にも料理上手な男性が増えている。料理好きになったきっけは「自分で肉を焼いたら、すごく美味しかった」「自分でケーキを焼いたら美味しくできた」など、自分で作れた→美味しい→俺って料理の才能があるかも！といった場合が多いらしい。また「両親が共働きだったため、晩ごはんを作り始めたら家族に好評だった」という男性も。\n",
      "\n",
      "「男子厨房に入らず」と言われて育ってきた父親世代は、妻がいなければ食事に困ることも多いが、料理男子たちは一人暮らしでも困ることはない。男ばかりの“本格的な料理付き家飲み”も盛り上がるという。料理男子がモテないとしても、彼らにとってはたいした問題ではないのかもしれない。\n",
      "\n",
      "ちなみに、女性からウザがられる料理男子の特徴は「自分の料理自慢をする」「食材や調理方法へのこだわりを熱く語る」「女性より手際が良い」など。「結婚するなら家事を分担できる男性がいい」という女性は多いが、料理については無意識に「妻の方が立場が上」であることを望んでしまうのだろう。でも、これでは理想的な夫になるかもしれない料理男子をみすみす見逃しているのでは？\n",
      "\n",
      "アウトドアイベントが増えてくるこれから季節。キャンプやバーベキューは、料理男子にはその腕前を披露する、独女にとっては男性たちの料理の腕をチェックする絶好の機会だ。独女たちは男性たちの料理の手際をきちんと見つめてみよう。料理について素直にアレコレ聞いてみるのもいい。料理男子はウンチクやこだわりを暫し封印し、美味しく焼けた肉や野菜を女性たちに振る舞ってみよう。手際よく火をつけ、真剣な表情で肉や野菜を焼く男たちは魅力的だ。（オフィスエムツー／神田はるひ）\n",
      "\n"
     ]
    }
   ],
   "source": [
    "read_doc(730)"
   ]
  },
  {
   "cell_type": "code",
   "execution_count": null,
   "metadata": {
    "collapsed": true
   },
   "outputs": [],
   "source": []
  }
 ],
 "metadata": {
  "kernelspec": {
   "display_name": "Environment (py3.6)",
   "language": "",
   "name": "py3.6"
  },
  "language_info": {
   "codemirror_mode": {
    "name": "ipython",
    "version": 3
   },
   "file_extension": ".py",
   "mimetype": "text/x-python",
   "name": "python",
   "nbconvert_exporter": "python",
   "pygments_lexer": "ipython3",
   "version": "3.6.0"
  }
 },
 "nbformat": 4,
 "nbformat_minor": 2
}
