{
 "cells": [
  {
   "cell_type": "markdown",
   "metadata": {},
   "source": [
    "## install mecab on mac\n",
    "```\n",
    "brew install mecab mecab-ipadic  \n",
    "pip install mecab-python3\n",
    "```"
   ]
  },
  {
   "cell_type": "markdown",
   "metadata": {},
   "source": [
    "## install neolog\n",
    "```\n",
    "git clone --depth 1 https://github.com/neologd/mecab-ipadic-neologd.git\n",
    "cd mecab-ipadic-neologd\n",
    "./bin/install-mecab-ipadic-neologd -n\n",
    "```"
   ]
  },
  {
   "cell_type": "markdown",
   "metadata": {},
   "source": [
    "## get Japanese articles\n",
    "livedoor ニュースコーパス\n",
    "\n",
    "```\n",
    "wget https://www.rondhuit.com/download/ldcc-20140209.tar.gz\n",
    "tar xvzf ldcc-20140209.tar.gz\n",
    "```"
   ]
  },
  {
   "cell_type": "code",
   "execution_count": 1,
   "metadata": {
    "collapsed": false
   },
   "outputs": [],
   "source": [
    "import MeCab\n",
    "from urllib import request \n",
    "from pathlib import Path\n",
    "from gensim import corpora, models\n",
    "import numpy as np\n",
    "import tqdm"
   ]
  },
  {
   "cell_type": "code",
   "execution_count": 2,
   "metadata": {
    "collapsed": false
   },
   "outputs": [],
   "source": [
    "mecab = MeCab.Tagger(\"-Ochasen -d /usr/local/lib/mecab/dic/mecab-ipadic-neologd/\")"
   ]
  },
  {
   "cell_type": "code",
   "execution_count": 4,
   "metadata": {
    "collapsed": false
   },
   "outputs": [
    {
     "data": {
      "text/plain": [
       "[['今日', 'キョウ', '今日', '名詞-副詞可能'],\n",
       " ['も', 'モ', 'も', '助詞-係助詞'],\n",
       " ['1日', 'ツイタチ', '1日', '名詞-固有名詞-一般'],\n",
       " ['がん', 'ガン', 'がん', '名詞-一般'],\n",
       " ['ばる', 'バル', 'バル', '名詞-一般'],\n",
       " ['ぞい', 'ゾイ', 'ぞい', '名詞-接尾-一般'],\n",
       " ['！', '！', '！', '記号-一般'],\n",
       " ['EOS\\n']]"
      ]
     },
     "execution_count": 4,
     "metadata": {},
     "output_type": "execute_result"
    }
   ],
   "source": [
    "[line.split(\"\\t\") for line in mecab.parse(\"今日も1日がんばるぞい！\").split(\"\\t\\t\\n\")]"
   ]
  },
  {
   "cell_type": "code",
   "execution_count": 5,
   "metadata": {
    "collapsed": false
   },
   "outputs": [
    {
     "data": {
      "text/plain": [
       "[PosixPath('text/dokujo-tsushin'),\n",
       " PosixPath('text/it-life-hack'),\n",
       " PosixPath('text/kaden-channel'),\n",
       " PosixPath('text/livedoor-homme'),\n",
       " PosixPath('text/movie-enter'),\n",
       " PosixPath('text/peachy'),\n",
       " PosixPath('text/smax'),\n",
       " PosixPath('text/sports-watch'),\n",
       " PosixPath('text/topic-news')]"
      ]
     },
     "execution_count": 5,
     "metadata": {},
     "output_type": "execute_result"
    }
   ],
   "source": [
    "doc_dir = Path(\"./text/\")\n",
    "dirs = [i for i in doc_dir.iterdir() if i.is_dir()]\n",
    "dirs"
   ]
  },
  {
   "cell_type": "code",
   "execution_count": 6,
   "metadata": {
    "collapsed": false
   },
   "outputs": [],
   "source": [
    "articles = [a for categ in dirs for a in categ.iterdir()]"
   ]
  },
  {
   "cell_type": "code",
   "execution_count": 7,
   "metadata": {
    "collapsed": false
   },
   "outputs": [
    {
     "data": {
      "text/plain": [
       "7376"
      ]
     },
     "execution_count": 7,
     "metadata": {},
     "output_type": "execute_result"
    }
   ],
   "source": [
    "len(articles)"
   ]
  },
  {
   "cell_type": "code",
   "execution_count": 8,
   "metadata": {
    "collapsed": false,
    "scrolled": true
   },
   "outputs": [],
   "source": [
    "res = request.urlopen(\"http://svn.sourceforge.jp/svnroot/slothlib/CSharp/Version1/SlothLib/NLP/Filter/StopWord/word/Japanese.txt\")\n",
    "stopwords = [line.decode(\"utf-8\").strip() for line in res]\n",
    "#stopwords"
   ]
  },
  {
   "cell_type": "code",
   "execution_count": 44,
   "metadata": {
    "collapsed": false
   },
   "outputs": [
    {
     "data": {
      "text/plain": [
       "['認め', '自分自身', '若さ故の過ち']"
      ]
     },
     "execution_count": 44,
     "metadata": {},
     "output_type": "execute_result"
    }
   ],
   "source": [
    "def tokenizer(text):\n",
    "    l = [line.split(\"\\t\") for line in mecab.parse(text).split(\"\\n\")]\n",
    "    res = [i[0] for i in l \n",
    "                   if len(i) >=4 \n",
    "                       and (\"名詞\" in i[3] or \"動詞\" in i[3] or \"形容詞\" in i[3] )\n",
    "                       and \"数\" not in i[3] and \"助動詞\" not in i[3] \n",
    "                       and i[0] not in stopwords\n",
    "            ]\n",
    "    return res\n",
    "tokenizer(\"認めたくないものだな、自分自身の若さ故の過ちというものを\")"
   ]
  },
  {
   "cell_type": "code",
   "execution_count": 40,
   "metadata": {
    "collapsed": false
   },
   "outputs": [
    {
     "data": {
      "text/plain": [
       "[['認め', 'ミトメ', '認める', '動詞-自立', '一段', '連用形'],\n",
       " ['たく', 'タク', 'たい', '助動詞', '特殊・タイ', '連用テ接続'],\n",
       " ['ない', 'ナイ', 'ない', '助動詞', '特殊・ナイ', '基本形'],\n",
       " ['もの', 'モノ', 'もの', '名詞-非自立-一般', '', ''],\n",
       " ['だ', 'ダ', 'だ', '助動詞', '特殊・ダ', '基本形'],\n",
       " ['な', 'ナ', 'な', '助詞-終助詞', '', ''],\n",
       " ['、', '、', '、', '記号-読点', '', ''],\n",
       " ['自分自身', 'ジブンジシン', '自分自身', '名詞-固有名詞-一般', '', ''],\n",
       " ['の', 'ノ', 'の', '助詞-連体化', '', ''],\n",
       " ['若さ故の過ち', 'ワカサユエノアヤマチ', '若さ故の過ち', '名詞-固有名詞-一般', '', ''],\n",
       " ['という', 'トイウ', 'という', '助詞-格助詞-連語', '', ''],\n",
       " ['もの', 'モノ', 'もの', '名詞-非自立-一般', '', ''],\n",
       " ['を', 'ヲ', 'を', '助詞-格助詞-一般', '', ''],\n",
       " ['EOS'],\n",
       " ['']]"
      ]
     },
     "execution_count": 40,
     "metadata": {},
     "output_type": "execute_result"
    }
   ],
   "source": [
    "[line.split(\"\\t\") for line in mecab.parse(\"認めたくないものだな、自分自身の若さ故の過ちというものを\").split(\"\\n\")]"
   ]
  },
  {
   "cell_type": "code",
   "execution_count": 11,
   "metadata": {
    "collapsed": false
   },
   "outputs": [
    {
     "name": "stderr",
     "output_type": "stream",
     "text": [
      "100%|██████████| 7376/7376 [00:24<00:00, 297.63it/s]\n"
     ]
    }
   ],
   "source": [
    "docs = []\n",
    "for a in tqdm.tqdm(articles):\n",
    "    with a.open() as f:\n",
    "        f.readline()\n",
    "        f.readline()\n",
    "        docs.append(tokenizer(f.read()))"
   ]
  },
  {
   "cell_type": "code",
   "execution_count": 12,
   "metadata": {
    "collapsed": false
   },
   "outputs": [
    {
     "data": {
      "text/plain": [
       "['友人', '代表', 'スピーチ', '独女', 'ジューン・ブライド', '独女', 'お祝い', '貧乏', '状態', '出席']"
      ]
     },
     "execution_count": 12,
     "metadata": {},
     "output_type": "execute_result"
    }
   ],
   "source": [
    "docs[0][:10]"
   ]
  },
  {
   "cell_type": "code",
   "execution_count": 13,
   "metadata": {
    "collapsed": false
   },
   "outputs": [],
   "source": [
    "no_below = 5\n",
    "no_above = 0.2\n",
    "d = corpora.Dictionary(docs)\n",
    "d.filter_extremes(no_below, no_above)\n",
    "d.compactify()"
   ]
  },
  {
   "cell_type": "code",
   "execution_count": 14,
   "metadata": {
    "collapsed": false
   },
   "outputs": [
    {
     "data": {
      "text/plain": [
       "20849"
      ]
     },
     "execution_count": 14,
     "metadata": {},
     "output_type": "execute_result"
    }
   ],
   "source": [
    "dic_num = len(d)\n",
    "dic_num"
   ]
  },
  {
   "cell_type": "code",
   "execution_count": 15,
   "metadata": {
    "collapsed": false
   },
   "outputs": [
    {
     "data": {
      "text/plain": [
       "[(0, 1), (1, 1), (2, 1), (3, 2), (4, 1), (5, 1), (6, 1), (7, 1)]"
      ]
     },
     "execution_count": 15,
     "metadata": {},
     "output_type": "execute_result"
    }
   ],
   "source": [
    "d.doc2bow(docs[0][:10])"
   ]
  },
  {
   "cell_type": "markdown",
   "metadata": {},
   "source": [
    "(id, count)"
   ]
  },
  {
   "cell_type": "code",
   "execution_count": 16,
   "metadata": {
    "collapsed": false
   },
   "outputs": [
    {
     "data": {
      "text/plain": [
       "'出席'"
      ]
     },
     "execution_count": 16,
     "metadata": {},
     "output_type": "execute_result"
    }
   ],
   "source": [
    "d[7] # get word from id"
   ]
  },
  {
   "cell_type": "code",
   "execution_count": 17,
   "metadata": {
    "collapsed": true
   },
   "outputs": [],
   "source": [
    "corpus = [d.doc2bow(w) for w in docs]"
   ]
  },
  {
   "cell_type": "code",
   "execution_count": null,
   "metadata": {
    "collapsed": false
   },
   "outputs": [],
   "source": [
    "corpus_words = sum(count for doc in corpus for id, count in doc)\n",
    "corpus_words"
   ]
  },
  {
   "cell_type": "code",
   "execution_count": null,
   "metadata": {
    "collapsed": false
   },
   "outputs": [],
   "source": [
    "lda = models.ldamodel.LdaModel(corpus=corpus, id2word=d, num_topics=10, iterations=100, passes=5)"
   ]
  },
  {
   "cell_type": "code",
   "execution_count": null,
   "metadata": {
    "collapsed": false
   },
   "outputs": [],
   "source": [
    "lda.print_topics(5)"
   ]
  },
  {
   "cell_type": "markdown",
   "metadata": {},
   "source": [
    "## see on tensorboard\n",
    "\n",
    "http://projector.tensorflow.org/  \n",
    "ref: https://github.com/RaRe-Technologies/gensim/blob/develop/docs/notebooks/Tensorboard_visualizations.ipynb\n"
   ]
  },
  {
   "cell_type": "code",
   "execution_count": null,
   "metadata": {
    "collapsed": false
   },
   "outputs": [],
   "source": [
    "all_topics = lda.get_document_topics(corpus, minimum_probability=0)\n",
    "all_topics[0]"
   ]
  },
  {
   "cell_type": "code",
   "execution_count": null,
   "metadata": {
    "collapsed": false
   },
   "outputs": [],
   "source": [
    "with open('doc_lda_tensor.tsv','w') as w:\n",
    "    for doc_topics in all_topics:\n",
    "        for topics in doc_topics:\n",
    "            w.write(str(topics[1])+ \"\\t\")\n",
    "        w.write(\"\\n\")    "
   ]
  },
  {
   "cell_type": "code",
   "execution_count": null,
   "metadata": {
    "collapsed": false
   },
   "outputs": [],
   "source": [
    "meta = [str(a).split(\"/\") for a in articles]"
   ]
  },
  {
   "cell_type": "code",
   "execution_count": null,
   "metadata": {
    "collapsed": false
   },
   "outputs": [],
   "source": [
    "meta[0]"
   ]
  },
  {
   "cell_type": "code",
   "execution_count": null,
   "metadata": {
    "collapsed": false
   },
   "outputs": [],
   "source": [
    "with open('doc_lda_metadata.tsv','w') as w:\n",
    "    w.write('Titles\\tGenres\\n')\n",
    "    for m in meta:\n",
    "        w.write(\"%s\\t%s\\n\" % (m[1][:2], m[1]))"
   ]
  },
  {
   "cell_type": "markdown",
   "metadata": {},
   "source": [
    "## perplexity"
   ]
  },
  {
   "cell_type": "code",
   "execution_count": null,
   "metadata": {
    "collapsed": false
   },
   "outputs": [],
   "source": [
    "lda.log_perplexity(corpus)"
   ]
  },
  {
   "cell_type": "markdown",
   "metadata": {},
   "source": [
    "Estimate the variational bound of documents from corpus: E_q[log p(corpus)] - E_q[log q(corpus)]"
   ]
  },
  {
   "cell_type": "code",
   "execution_count": null,
   "metadata": {
    "collapsed": false
   },
   "outputs": [],
   "source": [
    "bound = lda.bound(corpus)/corpus_words\n",
    "bound #= lda.log_perplexity(corpus)"
   ]
  },
  {
   "cell_type": "code",
   "execution_count": null,
   "metadata": {
    "collapsed": true
   },
   "outputs": [],
   "source": [
    "import numpy as np"
   ]
  },
  {
   "cell_type": "code",
   "execution_count": null,
   "metadata": {
    "collapsed": false
   },
   "outputs": [],
   "source": [
    "perplexity = np.exp2(-bound ) # 2^(-bound per words)"
   ]
  },
  {
   "cell_type": "code",
   "execution_count": null,
   "metadata": {
    "collapsed": false
   },
   "outputs": [],
   "source": [
    "lda.top_topics(corpus=corpus, num_words=10)"
   ]
  },
  {
   "cell_type": "code",
   "execution_count": null,
   "metadata": {
    "collapsed": false
   },
   "outputs": [],
   "source": []
  },
  {
   "cell_type": "markdown",
   "metadata": {},
   "source": [
    "## 類似度"
   ]
  },
  {
   "cell_type": "code",
   "execution_count": 18,
   "metadata": {
    "collapsed": true
   },
   "outputs": [],
   "source": [
    "corpora.BleiCorpus.serialize(\"./corpus.blei\", corpus)"
   ]
  },
  {
   "cell_type": "code",
   "execution_count": 30,
   "metadata": {
    "collapsed": true
   },
   "outputs": [],
   "source": [
    "blei_corpus = corpora.BleiCorpus('./corpus.blei', './corpus.blei.vocab')"
   ]
  },
  {
   "cell_type": "code",
   "execution_count": 32,
   "metadata": {
    "collapsed": false
   },
   "outputs": [],
   "source": [
    "model = models.ldamodel.LdaModel(\n",
    "blei_corpus,\n",
    "num_topics=100,\n",
    "id2word=blei_corpus.id2word)"
   ]
  },
  {
   "cell_type": "code",
   "execution_count": 21,
   "metadata": {
    "collapsed": true
   },
   "outputs": [],
   "source": [
    "topics = [model[c] for c in blei_corpus]"
   ]
  },
  {
   "cell_type": "code",
   "execution_count": 22,
   "metadata": {
    "collapsed": false
   },
   "outputs": [
    {
     "data": {
      "text/plain": [
       "[(3, 0.39135479635292925),\n",
       " (6, 0.28314725913005617),\n",
       " (7, 0.158951553032459),\n",
       " (8, 0.16203422527592143)]"
      ]
     },
     "execution_count": 22,
     "metadata": {},
     "output_type": "execute_result"
    }
   ],
   "source": [
    "topics[0]"
   ]
  },
  {
   "cell_type": "code",
   "execution_count": 23,
   "metadata": {
    "collapsed": false
   },
   "outputs": [],
   "source": [
    "dense = np.zeros( (len(topics), 100), float)\n",
    "for ti,t in enumerate(topics):\n",
    "    for tj,v in t:\n",
    "        dense[ti,tj] = v"
   ]
  },
  {
   "cell_type": "code",
   "execution_count": 25,
   "metadata": {
    "collapsed": false
   },
   "outputs": [
    {
     "data": {
      "text/plain": [
       "array([[ 0.        ,  0.        ,  0.        , ...,  0.        ,\n",
       "         0.        ,  0.        ],\n",
       "       [ 0.06862076,  0.        ,  0.18922655, ...,  0.        ,\n",
       "         0.        ,  0.        ],\n",
       "       [ 0.        ,  0.        ,  0.        , ...,  0.        ,\n",
       "         0.        ,  0.        ],\n",
       "       ..., \n",
       "       [ 0.49557075,  0.02240851,  0.        , ...,  0.        ,\n",
       "         0.        ,  0.        ],\n",
       "       [ 0.        ,  0.        ,  0.        , ...,  0.        ,\n",
       "         0.        ,  0.        ],\n",
       "       [ 0.        ,  0.        ,  0.14817951, ...,  0.        ,\n",
       "         0.        ,  0.        ]])"
      ]
     },
     "execution_count": 25,
     "metadata": {},
     "output_type": "execute_result"
    }
   ],
   "source": [
    "dense"
   ]
  },
  {
   "cell_type": "code",
   "execution_count": 24,
   "metadata": {
    "collapsed": false
   },
   "outputs": [],
   "source": [
    "from scipy.spatial import distance\n",
    "pairwise = distance.squareform(distance.pdist(dense,\"cosine\"))"
   ]
  },
  {
   "cell_type": "code",
   "execution_count": null,
   "metadata": {
    "collapsed": true
   },
   "outputs": [],
   "source": [
    "largest = pairwise.max()\n",
    "for ti in range(len(topics)):\n",
    "    pairwise[ti,ti] = largest + 1"
   ]
  },
  {
   "cell_type": "code",
   "execution_count": null,
   "metadata": {
    "collapsed": true
   },
   "outputs": [],
   "source": [
    "def closest_to(doc_id):\n",
    "    return pairwise[doc_id].argmin()"
   ]
  },
  {
   "cell_type": "code",
   "execution_count": null,
   "metadata": {
    "collapsed": false
   },
   "outputs": [],
   "source": [
    "def read_doc(doc_id):\n",
    "    with articles[doc_id].open() as f:\n",
    "        print(f.read())"
   ]
  },
  {
   "cell_type": "code",
   "execution_count": null,
   "metadata": {
    "collapsed": false
   },
   "outputs": [],
   "source": [
    "closest_to(3)"
   ]
  },
  {
   "cell_type": "code",
   "execution_count": null,
   "metadata": {
    "collapsed": false
   },
   "outputs": [],
   "source": [
    "read_doc(4772)"
   ]
  },
  {
   "cell_type": "code",
   "execution_count": null,
   "metadata": {
    "collapsed": false
   },
   "outputs": [],
   "source": [
    "read_doc(4442)"
   ]
  },
  {
   "cell_type": "code",
   "execution_count": null,
   "metadata": {
    "collapsed": true
   },
   "outputs": [],
   "source": []
  }
 ],
 "metadata": {
  "kernelspec": {
   "display_name": "Environment (py3.6)",
   "language": "",
   "name": "py3.6"
  },
  "language_info": {
   "codemirror_mode": {
    "name": "ipython",
    "version": 3
   },
   "file_extension": ".py",
   "mimetype": "text/x-python",
   "name": "python",
   "nbconvert_exporter": "python",
   "pygments_lexer": "ipython3",
   "version": "3.6.0"
  }
 },
 "nbformat": 4,
 "nbformat_minor": 2
}
