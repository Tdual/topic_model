{
 "cells": [
  {
   "cell_type": "markdown",
   "metadata": {},
   "source": [
    "## install mecab on mac\n",
    "```\n",
    "brew install mecab mecab-ipadic  \n",
    "pip install mecab-python3\n",
    "```"
   ]
  },
  {
   "cell_type": "markdown",
   "metadata": {},
   "source": [
    "## install neologd\n",
    "```\n",
    "git clone --depth 1 https://github.com/neologd/mecab-ipadic-neologd.git\n",
    "cd mecab-ipadic-neologd\n",
    "./bin/install-mecab-ipadic-neologd -n\n",
    "```"
   ]
  },
  {
   "cell_type": "markdown",
   "metadata": {},
   "source": [
    "## get Japanese articles\n",
    "livedoor ニュースコーパス\n",
    "\n",
    "```\n",
    "wget https://www.rondhuit.com/download/ldcc-20140209.tar.gz\n",
    "tar xvzf ldcc-20140209.tar.gz\n",
    "```"
   ]
  },
  {
   "cell_type": "code",
   "execution_count": 1,
   "metadata": {
    "collapsed": false
   },
   "outputs": [],
   "source": [
    "from urllib import request \n",
    "from pathlib import Path\n",
    "import numpy as np\n",
    "import tqdm\n",
    "import re\n",
    "import MeCab\n",
    "from gensim import corpora, models"
   ]
  },
  {
   "cell_type": "code",
   "execution_count": 2,
   "metadata": {
    "collapsed": false
   },
   "outputs": [],
   "source": [
    "mecab = MeCab.Tagger(\"-Ochasen -d /usr/local/lib/mecab/dic/mecab-ipadic-neologd/\")"
   ]
  },
  {
   "cell_type": "code",
   "execution_count": 3,
   "metadata": {
    "collapsed": false
   },
   "outputs": [
    {
     "data": {
      "text/plain": [
       "[['今日', 'キョウ', '今日', '名詞-副詞可能', '', ''],\n",
       " ['も', 'モ', 'も', '助詞-係助詞', '', ''],\n",
       " ['がん', 'ガン', 'がん', '名詞-一般', '', ''],\n",
       " ['ばる', 'バル', 'バル', '名詞-一般', '', ''],\n",
       " ['ぞい', 'ゾイ', 'ぞい', '名詞-接尾-一般', '', ''],\n",
       " ['！', '！', '！', '記号-一般', '', ''],\n",
       " ['EOS'],\n",
       " ['']]"
      ]
     },
     "execution_count": 3,
     "metadata": {},
     "output_type": "execute_result"
    }
   ],
   "source": [
    "[line.split(\"\\t\") for line in mecab.parse(\"今日もがんばるぞい！\").split(\"\\n\")]"
   ]
  },
  {
   "cell_type": "code",
   "execution_count": 4,
   "metadata": {
    "collapsed": false
   },
   "outputs": [
    {
     "data": {
      "text/plain": [
       "[['今日も一日がんばるぞい', 'キョウモイチニチガンバルゾイ', '今日も一日がんばるぞい', '名詞-固有名詞-一般', '', ''],\n",
       " ['！', '！', '！', '記号-一般', '', ''],\n",
       " ['EOS'],\n",
       " ['']]"
      ]
     },
     "execution_count": 4,
     "metadata": {},
     "output_type": "execute_result"
    }
   ],
   "source": [
    "[line.split(\"\\t\") for line in mecab.parse(\"今日も一日がんばるぞい！\").split(\"\\n\")]"
   ]
  },
  {
   "cell_type": "code",
   "execution_count": 5,
   "metadata": {
    "collapsed": false,
    "scrolled": true
   },
   "outputs": [],
   "source": [
    "res = request.urlopen(\"http://svn.sourceforge.jp/svnroot/slothlib/CSharp/Version1/SlothLib/NLP/Filter/StopWord/word/Japanese.txt\")\n",
    "stopwords = [line.decode(\"utf-8\").strip() for line in res]"
   ]
  },
  {
   "cell_type": "code",
   "execution_count": 56,
   "metadata": {
    "collapsed": true
   },
   "outputs": [],
   "source": [
    "def tokenizer(text):\n",
    "    l = [line.split(\"\\t\") for line in mecab.parse(text).split(\"\\n\")]\n",
    "    res = [i[0] for i in l \n",
    "                   if len(i) >=4 \n",
    "                       and (\"名詞\" in i[3] or \"動詞\" in i[3] or \"形容詞\" in i[3] )\n",
    "                       and \"数\" not in i[3] and \"助動詞\" not in i[3] \n",
    "                       #and not re.search(\"[0-9]\", i[0])\n",
    "                       and i[0] not in stopwords\n",
    "            ]\n",
    "    return res"
   ]
  },
  {
   "cell_type": "code",
   "execution_count": 57,
   "metadata": {
    "collapsed": false
   },
   "outputs": [
    {
     "data": {
      "text/plain": [
       "['認め', '自分自身', '若さ故の過ち']"
      ]
     },
     "execution_count": 57,
     "metadata": {},
     "output_type": "execute_result"
    }
   ],
   "source": [
    "tokenizer(\"認めたくないものだな。自分自身の若さ故の過ちというものを。\")"
   ]
  },
  {
   "cell_type": "code",
   "execution_count": 58,
   "metadata": {
    "collapsed": false
   },
   "outputs": [
    {
     "data": {
      "text/plain": [
       "[PosixPath('text/dokujo-tsushin'),\n",
       " PosixPath('text/it-life-hack'),\n",
       " PosixPath('text/kaden-channel'),\n",
       " PosixPath('text/livedoor-homme'),\n",
       " PosixPath('text/movie-enter'),\n",
       " PosixPath('text/peachy'),\n",
       " PosixPath('text/smax'),\n",
       " PosixPath('text/sports-watch'),\n",
       " PosixPath('text/topic-news')]"
      ]
     },
     "execution_count": 58,
     "metadata": {},
     "output_type": "execute_result"
    }
   ],
   "source": [
    "doc_path = \"./text/\"\n",
    "doc_dir = Path(doc_path)\n",
    "dirs = [i for i in doc_dir.iterdir() if i.is_dir()]\n",
    "dirs"
   ]
  },
  {
   "cell_type": "code",
   "execution_count": 59,
   "metadata": {
    "collapsed": false
   },
   "outputs": [],
   "source": [
    "articles = [a for categ in dirs for a in categ.iterdir()]"
   ]
  },
  {
   "cell_type": "code",
   "execution_count": 60,
   "metadata": {
    "collapsed": false
   },
   "outputs": [
    {
     "data": {
      "text/plain": [
       "7376"
      ]
     },
     "execution_count": 60,
     "metadata": {},
     "output_type": "execute_result"
    }
   ],
   "source": [
    "len(articles)"
   ]
  },
  {
   "cell_type": "code",
   "execution_count": 61,
   "metadata": {
    "collapsed": true
   },
   "outputs": [],
   "source": [
    "def read_doc(doc_id):\n",
    "    with articles[doc_id].open() as f:\n",
    "        print(f.read())"
   ]
  },
  {
   "cell_type": "code",
   "execution_count": 178,
   "metadata": {
    "collapsed": false
   },
   "outputs": [
    {
     "name": "stdout",
     "output_type": "stream",
     "text": [
      "http://news.livedoor.com/article/detail/6590044/\n",
      "2012-05-24T12:55:00+0900\n",
      "ソニー、Sony TabletシリーズをAndroid 4.0にOSバージョンアップするソフトウェアアップデートを提供開始\n",
      "本日24日13時から提供開始！ \n",
      "\n",
      "ソニーは18日、同社のAndroid搭載タブレット「Sony Tablet」シリーズにおいて最新プラットフォーム「Android 4.0（開発コード名：IceCream Sandwich；ICS）」へOSバージョンアップするためのシステムソフトウェアアップデートを2012年5月24日（木）13：00から提供開始すると発表しています。\n",
      "\n",
      "今回のアップデートは、Sony Tablet SシリーズおよびSony Tablet Pシリーズを対象に、OSをAndroid 4.0.3へバージョンアップします。当初は4月下旬に予定されていましたが、ソフトウェア開発に時間を要するとして4月27日に延期することが発表されていました。\n",
      "\n",
      "OSバージョンアップ以外にも“Sony Tablet”独自の機能が追加されるとのことです。\n",
      "\n",
      "\n",
      "\n",
      "主なアップデート内容は以下の通り。\n",
      "\n",
      "＜Android 4.0.3に伴う機能追加＞\n",
      "\n",
      "1. 最新版のAndroid 4.0.3にアップデートされることにより、Android 4.0対応スマートフォンとユーザーインターフェースが共通化します。\n",
      "2. ロック画面からのカメラの直接起動やパノラマ写真の撮影、「ギャラリー」アプリケーションで画像の編集が可能になるなど、写真・動画についての機能が向上します。\n",
      "\n",
      "\n",
      "＜“Sony Tablet”独自の機能追加＞\n",
      "1. ソニー製BDレコーダー※1と連携してテレビ番組の視聴が可能\n",
      "ソニー製のBDレコーダー※1で録画した番組や放送中の番組を“Sony Tablet”上で視聴することが可能になります。家庭内のネットワークに接続することで、テレビのない寝室やキッチン、書斎など、場所を選ばず家中でテレビ番組をハイビジョン（720p）で楽しむことができます。\n",
      "新しくソニーが提供するアプリケーション「RECOPLA（レコプラ）」※3を、“Sony Tablet”上の「Select App」※4、またはGoogle Playストアから無償でダウンロードすることにより、“Sony Tablet”の画面上でテレビ番組の視聴※5が可能になるほか、複数のソニー製BDレコーダー※6に録画した番組の一括管理、あるいは多彩なカテゴリー分類機能や並び換え機能を用い、見たい番組を瞬時に探し出すことができるようになるなど、“Sony Tablet”の使い勝手が更に向上します。\n",
      "\n",
      "\n",
      "2. 「スモールアプリ」機能の追加\n",
      "任意のアプリケーションを起動中に、ブラウザー、計算機、リモコン機能※7のいずれかを小画面で表示することができるようになります。ソーシャルネットワークサービスで会話をしながらWebブラウザーで検索をしたり、ネットショッピング中に計算機で計算したり、調べ物をしながらテレビのチャンネルを変えるなどの便利な操作が可能です。\n",
      "\n",
      "\n",
      "記事執筆：memn0ck\n",
      "\n",
      "■関連リンク\n",
      "・エスマックス（S-MAX）\n",
      "・エスマックス（S-MAX） smaxjp on Twitter\n",
      "・Android 4.0.3を含むシステムソフトウェアアップデート 提供開始日時決定のお知らせ | Sony Tablet | ソニー\n",
      "・“Sony Tablet”、Android(TM) 4.0.3対応を含むアップデートによる機能追加 | プレスリリース | ソニー\n",
      "\n"
     ]
    }
   ],
   "source": [
    "read_doc(5000)"
   ]
  },
  {
   "cell_type": "code",
   "execution_count": 63,
   "metadata": {
    "collapsed": false
   },
   "outputs": [
    {
     "name": "stderr",
     "output_type": "stream",
     "text": [
      "100%|██████████| 7376/7376 [00:31<00:00, 233.01it/s]\n"
     ]
    }
   ],
   "source": [
    "docs = []\n",
    "for a in tqdm.tqdm(articles):\n",
    "    with a.open() as f:\n",
    "        f.readline()\n",
    "        f.readline()\n",
    "        docs.append(tokenizer(f.read()))"
   ]
  },
  {
   "cell_type": "code",
   "execution_count": 180,
   "metadata": {
    "collapsed": false
   },
   "outputs": [
    {
     "data": {
      "text/plain": [
       "['ソニー', 'Sony Tablet', 'シリーズ', 'Android 4.0', 'OS', 'バージョンアップ', 'する', 'ソフトウェア']"
      ]
     },
     "execution_count": 180,
     "metadata": {},
     "output_type": "execute_result"
    }
   ],
   "source": [
    "docs[5000][:8]"
   ]
  },
  {
   "cell_type": "code",
   "execution_count": 65,
   "metadata": {
    "collapsed": false
   },
   "outputs": [],
   "source": [
    "d = corpora.Dictionary(docs)"
   ]
  },
  {
   "cell_type": "markdown",
   "metadata": {},
   "source": [
    "stopwordsで排除しきれなかった邪魔な単語を処理"
   ]
  },
  {
   "cell_type": "code",
   "execution_count": 66,
   "metadata": {
    "collapsed": false
   },
   "outputs": [],
   "source": [
    "d.filter_extremes(no_below=5, no_above=0.2)\n",
    "# nob_below以下の個数の単語を無視\n",
    "# no_aboveの割合以上に出てくる単語を無視\n",
    "\n",
    "d.compactify()\n",
    "# idを振り直してコンパクトにする。"
   ]
  },
  {
   "cell_type": "code",
   "execution_count": 67,
   "metadata": {
    "collapsed": false
   },
   "outputs": [
    {
     "data": {
      "text/plain": [
       "26209"
      ]
     },
     "execution_count": 67,
     "metadata": {},
     "output_type": "execute_result"
    }
   ],
   "source": [
    "dic_num = len(d)\n",
    "dic_num"
   ]
  },
  {
   "cell_type": "code",
   "execution_count": 181,
   "metadata": {
    "collapsed": false
   },
   "outputs": [
    {
     "data": {
      "text/plain": [
       "[(1309, 1),\n",
       " (1347, 1),\n",
       " (3314, 1),\n",
       " (5654, 1),\n",
       " (6351, 1),\n",
       " (7443, 1),\n",
       " (12220, 1),\n",
       " (13546, 1),\n",
       " (13912, 1),\n",
       " (14557, 1),\n",
       " (15594, 2),\n",
       " (16221, 1),\n",
       " (16721, 2),\n",
       " (16858, 1),\n",
       " (16920, 1),\n",
       " (17334, 1),\n",
       " (19119, 1)]"
      ]
     },
     "execution_count": 181,
     "metadata": {},
     "output_type": "execute_result"
    }
   ],
   "source": [
    "d.doc2bow(docs[5000][:20])"
   ]
  },
  {
   "cell_type": "markdown",
   "metadata": {},
   "source": [
    "(id, num in a doc)"
   ]
  },
  {
   "cell_type": "code",
   "execution_count": 182,
   "metadata": {
    "collapsed": false
   },
   "outputs": [
    {
     "data": {
      "text/plain": [
       "'搭載'"
      ]
     },
     "execution_count": 182,
     "metadata": {},
     "output_type": "execute_result"
    }
   ],
   "source": [
    "d[1309] # get word from id"
   ]
  },
  {
   "cell_type": "code",
   "execution_count": 71,
   "metadata": {
    "collapsed": true
   },
   "outputs": [],
   "source": [
    "corpus = [d.doc2bow(w) for w in docs]"
   ]
  },
  {
   "cell_type": "code",
   "execution_count": 72,
   "metadata": {
    "collapsed": false
   },
   "outputs": [
    {
     "data": {
      "text/plain": [
       "1496217"
      ]
     },
     "execution_count": 72,
     "metadata": {},
     "output_type": "execute_result"
    }
   ],
   "source": [
    "corpus_words = sum(count for doc in corpus for id, count in doc)\n",
    "corpus_words"
   ]
  },
  {
   "cell_type": "code",
   "execution_count": 73,
   "metadata": {
    "collapsed": true
   },
   "outputs": [],
   "source": [
    "num_topics = 100"
   ]
  },
  {
   "cell_type": "code",
   "execution_count": 151,
   "metadata": {
    "collapsed": false
   },
   "outputs": [],
   "source": [
    "lda = models.ldamodel.LdaModel(corpus=corpus, id2word=d, num_topics=num_topics, iterations=1000)"
   ]
  },
  {
   "cell_type": "code",
   "execution_count": 183,
   "metadata": {
    "collapsed": false
   },
   "outputs": [
    {
     "data": {
      "text/plain": [
       "[(58, 0.28008868786636115),\n",
       " (63, 0.18262631077437469),\n",
       " (69, 0.15614527821574345),\n",
       " (36, 0.10985682904192787),\n",
       " (8, 0.095077871815779882),\n",
       " (6, 0.068057259739714188),\n",
       " (57, 0.048950289885001788),\n",
       " (66, 0.015136483497717465),\n",
       " (51, 0.011141093068924806),\n",
       " (4, 0.010641537644589848)]"
      ]
     },
     "execution_count": 183,
     "metadata": {},
     "output_type": "execute_result"
    }
   ],
   "source": [
    "sorted(lda.get_document_topics(corpus[5000]), key=lambda t:t[1], reverse=True)"
   ]
  },
  {
   "cell_type": "code",
   "execution_count": 184,
   "metadata": {
    "collapsed": false
   },
   "outputs": [],
   "source": [
    "def get_topic_words(topic_id):\n",
    "    for t in lda.get_topic_terms(topic_id):\n",
    "        print(\"{}: {}\".format(d[t[0]], t[1]))"
   ]
  },
  {
   "cell_type": "code",
   "execution_count": 186,
   "metadata": {
    "collapsed": false
   },
   "outputs": [
    {
     "name": "stdout",
     "output_type": "stream",
     "text": [
      "D: 0.025643587634950966\n",
      "ソフトウェア: 0.02262133739417123\n",
      "スマートフォン: 0.017817280001601692\n",
      "対応: 0.014450307899772643\n",
      "更新: 0.01384202012381848\n",
      "充電: 0.012517615988070755\n",
      "NTTドコモ: 0.01096637888578934\n",
      "SC: 0.010685212388917037\n",
      "LTE: 0.009881178198168656\n",
      "Xi: 0.00897604785480875\n"
     ]
    }
   ],
   "source": [
    "get_topic_words(58)"
   ]
  },
  {
   "cell_type": "markdown",
   "metadata": {},
   "source": [
    "## see on tensorboard\n",
    "\n",
    "http://projector.tensorflow.org/  \n",
    "ref: https://github.com/RaRe-Technologies/gensim/blob/develop/docs/notebooks/Tensorboard_visualizations.ipynb\n"
   ]
  },
  {
   "cell_type": "code",
   "execution_count": null,
   "metadata": {
    "collapsed": false
   },
   "outputs": [],
   "source": [
    "all_topics = lda.get_document_topics(corpus, minimum_probability=0)"
   ]
  },
  {
   "cell_type": "code",
   "execution_count": null,
   "metadata": {
    "collapsed": false
   },
   "outputs": [],
   "source": [
    "with open('doc_lda_tensor.tsv','w') as w:\n",
    "    for doc_topics in all_topics:\n",
    "        for topics in doc_topics:\n",
    "            w.write(str(topics[1])+ \"\\t\")\n",
    "        w.write(\"\\n\")    "
   ]
  },
  {
   "cell_type": "code",
   "execution_count": null,
   "metadata": {
    "collapsed": false
   },
   "outputs": [],
   "source": [
    "meta = [str(a).split(\"/\") for a in articles]"
   ]
  },
  {
   "cell_type": "code",
   "execution_count": null,
   "metadata": {
    "collapsed": false
   },
   "outputs": [],
   "source": [
    "meta[0]"
   ]
  },
  {
   "cell_type": "code",
   "execution_count": null,
   "metadata": {
    "collapsed": false
   },
   "outputs": [],
   "source": [
    "with open('doc_lda_metadata.tsv','w') as w:\n",
    "    w.write('Titles\\tGenres\\n')\n",
    "    for m in meta:\n",
    "        w.write(\"%s\\t%s\\n\" % (m[1][:2], m[1]))"
   ]
  },
  {
   "cell_type": "markdown",
   "metadata": {},
   "source": [
    "## perplexity"
   ]
  },
  {
   "cell_type": "code",
   "execution_count": null,
   "metadata": {
    "collapsed": false
   },
   "outputs": [],
   "source": [
    "lda.log_perplexity(corpus)"
   ]
  },
  {
   "cell_type": "markdown",
   "metadata": {},
   "source": [
    "Estimate the variational bound of documents from corpus: E_q[log p(corpus)] - E_q[log q(corpus)]"
   ]
  },
  {
   "cell_type": "code",
   "execution_count": null,
   "metadata": {
    "collapsed": false
   },
   "outputs": [],
   "source": [
    "bound = lda.bound(corpus)/corpus_words\n",
    "bound #= lda.log_perplexity(corpus)"
   ]
  },
  {
   "cell_type": "code",
   "execution_count": null,
   "metadata": {
    "collapsed": false
   },
   "outputs": [],
   "source": [
    "perplexity = np.exp2(-bound ) # 2^(-bound per words)"
   ]
  },
  {
   "cell_type": "code",
   "execution_count": null,
   "metadata": {
    "collapsed": false,
    "scrolled": false
   },
   "outputs": [],
   "source": [
    "lda.top_topics(corpus=corpus, num_words=10)"
   ]
  },
  {
   "cell_type": "code",
   "execution_count": null,
   "metadata": {
    "collapsed": false
   },
   "outputs": [],
   "source": []
  },
  {
   "cell_type": "markdown",
   "metadata": {},
   "source": [
    "## 類似度"
   ]
  },
  {
   "cell_type": "code",
   "execution_count": 156,
   "metadata": {
    "collapsed": false
   },
   "outputs": [],
   "source": [
    "doc_topics = np.array([lda[c] for c in corpus])"
   ]
  },
  {
   "cell_type": "code",
   "execution_count": 157,
   "metadata": {
    "collapsed": false,
    "scrolled": true
   },
   "outputs": [
    {
     "data": {
      "text/plain": [
       "[(5, 0.13031681195806283),\n",
       " (10, 0.027911956077360991),\n",
       " (13, 0.60346018382798394),\n",
       " (33, 0.079328600077435196),\n",
       " (54, 0.023118769644709325),\n",
       " (59, 0.096518251134575572),\n",
       " (97, 0.022946814112145997)]"
      ]
     },
     "execution_count": 157,
     "metadata": {},
     "output_type": "execute_result"
    }
   ],
   "source": [
    "doc_topics[1]"
   ]
  },
  {
   "cell_type": "code",
   "execution_count": 158,
   "metadata": {
    "collapsed": false
   },
   "outputs": [
    {
     "data": {
      "text/plain": [
       "(7376,)"
      ]
     },
     "execution_count": 158,
     "metadata": {},
     "output_type": "execute_result"
    }
   ],
   "source": [
    "doc_topics.shape"
   ]
  },
  {
   "cell_type": "code",
   "execution_count": 159,
   "metadata": {
    "collapsed": false
   },
   "outputs": [],
   "source": [
    "dense = np.zeros( (len(doc_topics), num_topics), float)\n",
    "\n",
    "for doc_id, t in enumerate(doc_topics):\n",
    "    for topic_id, weight in t:\n",
    "        dense[doc_id, topic_id] = weight"
   ]
  },
  {
   "cell_type": "markdown",
   "metadata": {},
   "source": [
    "例えば\n",
    "$$\n",
    "\\text{doc_id(7376)}\n",
    "\\underbrace{\n",
    "\\begin{pmatrix}\n",
    "0 & 0 & weight & \\cdots & 0\\\\\n",
    "0 & 0 & 0 & \\cdots & 0\\\\\n",
    "0 & weight & 0 & \\cdots & 0\\\\\n",
    "\\vdots & \\vdots & \\vdots & \\vdots & \\vdots\\\\\n",
    "0 & 0 & 0 & \\cdots & 0\n",
    "\\end{pmatrix}\n",
    "}_{\\text{topics(100)}}\n",
    "$$"
   ]
  },
  {
   "cell_type": "code",
   "execution_count": 160,
   "metadata": {
    "collapsed": false
   },
   "outputs": [],
   "source": [
    "from scipy.spatial import distance\n",
    "pairwise = distance.squareform(distance.pdist(dense, metric=\"cosine\"))"
   ]
  },
  {
   "cell_type": "markdown",
   "metadata": {},
   "source": [
    "$$\n",
    "1 - \\frac{u \\cdot v}\n",
    "         {{||u||}_2 {||v||}_2}\n",
    "$$"
   ]
  },
  {
   "cell_type": "code",
   "execution_count": 161,
   "metadata": {
    "collapsed": false
   },
   "outputs": [
    {
     "data": {
      "text/plain": [
       "(7376, 7376)"
      ]
     },
     "execution_count": 161,
     "metadata": {},
     "output_type": "execute_result"
    }
   ],
   "source": [
    "pairwise.shape"
   ]
  },
  {
   "cell_type": "code",
   "execution_count": 162,
   "metadata": {
    "collapsed": false
   },
   "outputs": [],
   "source": [
    "def similar_to(doc_id, num=5, distance=False):\n",
    "    doc = pairwise[doc_id]\n",
    "    ids = np.argsort(doc)[1: num+1] # the most similar is self.\n",
    "    if distance:\n",
    "        dist = np.sort(doc)[1: num+1]\n",
    "        return [(x,y) for x, y in zip(ids, dist)]\n",
    "    else:\n",
    "        return ids"
   ]
  },
  {
   "cell_type": "code",
   "execution_count": 177,
   "metadata": {
    "collapsed": false
   },
   "outputs": [
    {
     "name": "stdout",
     "output_type": "stream",
     "text": [
      "http://news.livedoor.com/article/detail/6590044/\n",
      "2012-05-24T12:55:00+0900\n",
      "ソニー、Sony TabletシリーズをAndroid 4.0にOSバージョンアップするソフトウェアアップデートを提供開始\n",
      "本日24日13時から提供開始！ \n",
      "\n",
      "ソニーは18日、同社のAndroid搭載タブレット「Sony Tablet」シリーズにおいて最新プラットフォーム「Android 4.0（開発コード名：IceCream Sandwich；ICS）」へOSバージョンアップするためのシステムソフトウェアアップデートを2012年5月24日（木）13：00から提供開始すると発表しています。\n",
      "\n",
      "今回のアップデートは、Sony Tablet SシリーズおよびSony Tablet Pシリーズを対象に、OSをAndroid 4.0.3へバージョンアップします。当初は4月下旬に予定されていましたが、ソフトウェア開発に時間を要するとして4月27日に延期することが発表されていました。\n",
      "\n",
      "OSバージョンアップ以外にも“Sony Tablet”独自の機能が追加されるとのことです。\n",
      "\n",
      "\n",
      "\n",
      "主なアップデート内容は以下の通り。\n",
      "\n",
      "＜Android 4.0.3に伴う機能追加＞\n",
      "\n",
      "1. 最新版のAndroid 4.0.3にアップデートされることにより、Android 4.0対応スマートフォンとユーザーインターフェースが共通化します。\n",
      "2. ロック画面からのカメラの直接起動やパノラマ写真の撮影、「ギャラリー」アプリケーションで画像の編集が可能になるなど、写真・動画についての機能が向上します。\n",
      "\n",
      "\n",
      "＜“Sony Tablet”独自の機能追加＞\n",
      "1. ソニー製BDレコーダー※1と連携してテレビ番組の視聴が可能\n",
      "ソニー製のBDレコーダー※1で録画した番組や放送中の番組を“Sony Tablet”上で視聴することが可能になります。家庭内のネットワークに接続することで、テレビのない寝室やキッチン、書斎など、場所を選ばず家中でテレビ番組をハイビジョン（720p）で楽しむことができます。\n",
      "新しくソニーが提供するアプリケーション「RECOPLA（レコプラ）」※3を、“Sony Tablet”上の「Select App」※4、またはGoogle Playストアから無償でダウンロードすることにより、“Sony Tablet”の画面上でテレビ番組の視聴※5が可能になるほか、複数のソニー製BDレコーダー※6に録画した番組の一括管理、あるいは多彩なカテゴリー分類機能や並び換え機能を用い、見たい番組を瞬時に探し出すことができるようになるなど、“Sony Tablet”の使い勝手が更に向上します。\n",
      "\n",
      "\n",
      "2. 「スモールアプリ」機能の追加\n",
      "任意のアプリケーションを起動中に、ブラウザー、計算機、リモコン機能※7のいずれかを小画面で表示することができるようになります。ソーシャルネットワークサービスで会話をしながらWebブラウザーで検索をしたり、ネットショッピング中に計算機で計算したり、調べ物をしながらテレビのチャンネルを変えるなどの便利な操作が可能です。\n",
      "\n",
      "\n",
      "記事執筆：memn0ck\n",
      "\n",
      "■関連リンク\n",
      "・エスマックス（S-MAX）\n",
      "・エスマックス（S-MAX） smaxjp on Twitter\n",
      "・Android 4.0.3を含むシステムソフトウェアアップデート 提供開始日時決定のお知らせ | Sony Tablet | ソニー\n",
      "・“Sony Tablet”、Android(TM) 4.0.3対応を含むアップデートによる機能追加 | プレスリリース | ソニー\n",
      "\n"
     ]
    }
   ],
   "source": [
    "read_doc(5000)"
   ]
  },
  {
   "cell_type": "code",
   "execution_count": 175,
   "metadata": {
    "collapsed": false
   },
   "outputs": [
    {
     "data": {
      "text/plain": [
       "[(5558, 0.065379147319052699),\n",
       " (5297, 0.066569651435818056),\n",
       " (5497, 0.067867272056701844),\n",
       " (5660, 0.07717944994314696),\n",
       " (5349, 0.080324860323738534),\n",
       " (5630, 0.083285008567317576),\n",
       " (5296, 0.085007544813284874),\n",
       " (5539, 0.11145168036414599),\n",
       " (4952, 0.11305264390568159),\n",
       " (5287, 0.11529363722508312)]"
      ]
     },
     "execution_count": 175,
     "metadata": {},
     "output_type": "execute_result"
    }
   ],
   "source": [
    "similar_to(5000, num=10, distance=True)"
   ]
  },
  {
   "cell_type": "code",
   "execution_count": 176,
   "metadata": {
    "collapsed": false,
    "scrolled": false
   },
   "outputs": [
    {
     "name": "stdout",
     "output_type": "stream",
     "text": [
      "http://news.livedoor.com/article/detail/6843206/\n",
      "2012-08-10T11:55:00+0900\n",
      "KDDI、au向け「Optimus X IS11LG」にAndroid 4.0 ICSにOSバージョンアップするなどのためのソフトウェア更新を提供開始\n",
      "Optimus X IS11LGがAndroid 4.0に！ \n",
      "\n",
      "KDDIおよび沖縄セルラーは10日、コンパクトながらデュアルコアCPUなどと搭載したハイスペックなau向けAndroidスマートフォン「Optimus X IS11LG」（LGエレクトロニクス製）においてAndroid 4.0（開発コード名：IceCream Sandwich；ICS）へのOSバージョンアップを含む本体ファームウェアの更新サービス「OSアップデート」を提供開始したことをお知らせしています。\n",
      "\n",
      "今回のアップデートで変更されるのは主に以下の4点です。Optimus X IS11LGのOSアップデートははじめてで、更新にかかる時間は約30分、アップデートファイルサイズは約331MBです。ただし、アップデートに必要な時間はユーザーの利用環境によって異なる場合があるということです。\n",
      "\n",
      "なお、アップデートはパソコンを用いて行い、MacOSには非対応で、本体のみで3G回線またはWi-Fi回線を利用したアップデートはできないので注意してください。\n",
      "\n",
      "・Android 4.0\n",
      "※ Android 4.0更新内容の一部をご案内いたします。詳しくは、LG社ホームページよりご確認ください。\n",
      "　　LG社ホームページ\n",
      "　1. ロック画面が全方向に解除可能となります。また、ロック画面の下段にショートカットが追加され、ロック画面から直接各アプリを起動可能となります。\n",
      "　2. ショートカット、ウィジェット、フォルダのサイズ変更が可能になります。\n",
      "　3. アプリ、ダウンロード、ウィジェットの各タブと編集ボタンが追加されます。また、フォルダを作成することが可能になります。\n",
      "　4. アプリの無効化機能が追加されます。アンインストール不可の一部アプリについて、「無効にする」を選択すると、アプリランチャー上に表示されなくなります。\n",
      "・Eメール (〜@ezweb.ne.jp) アプリの改善\n",
      "　1. 背景色の設定を白背景、黒背景のいずれかから選択可能になります。\n",
      "　　〈設定方法〉\n",
      "　　　Eメール設定 → 受信・表示設定 → テーマ設定\n",
      "　2. 受信/送信メールにファイルが添付されている場合、添付ファイルの保存先を変更することができます。\n",
      "　　初期設定の「本体 (システムメモリ)」から「SDカード (外部ストレージ)」に変更することにより、システムメモリの空き容量減少を抑えることができます。\n",
      "　　※ メールを削除するとそのメールの添付ファイルも削除されます。添付ファイルを保存しておきたい場合は、添付ファイルを選択し「SDカード（外部ストレージ）へ保存」の操作を行ってください。\n",
      "　　〈設定方法〉\n",
      "　　　Eメール設定 → 添付ファイル保存設定 → 保存場所の設定\n",
      "　3. 本文未受信メールを受信した場合、メール詳細画面から本文取得が開始できるよう改善しました。\n",
      "・SMS (Cメール) アプリの変更\n",
      "　SMSアプリがau共通のSMS (Cメール) アプリに変わります。以前のSMSアプリでの送受信メッセージについては「SMS Viewer」アプリにて閲覧/削除可能になります。\n",
      "・Wi-Fi 品質向上\n",
      "　より快適にWi-Fiをご利用いただけるように、品質向上を実施いたします。\n",
      "　・Wi-Fiオンを設定した時の電池持ち向上。\n",
      "　・Wi-Fi通信から3G通信への切り替えまでの待ち時間を短縮。\n",
      "　詳しくはauスマートフォンのWi-Fi品質向上についてをご覧ください。\n",
      "　　auスマートフォンのWi-Fi品質向上について\n",
      "\n",
      "\n",
      "\n",
      "アップデート手順につきましては「IS11GLソフトウェア更新の操作手順書 (265KB) [PDF]」を参照ください。または、LGホームページにも詳細が掲載されています。また、アップデートに際して以下のような注意点が案内されています。\n",
      "\n",
      "・OSアップデートはお客様の責任において実施してください。\n",
      "・OSアップデートを行うとAndroid 2.3に戻すことはできません。\n",
      "・十分に充電してから更新してください。電池残量が少ない場合や、更新途中で電池残量が不足するとソフトウェア更新に失敗します。\n",
      "・上記以外のOptimus X IS11LGに登録された各種データ (連絡先、メール、フォト、楽曲データなど) や設定情報は変更されません。ただし、お客様の携帯電話の状態 (故障・破損・水濡れなど) によってはデータの保護ができない場合もございますので、あらかじめご了承願います。また、更新前にデータのバックアップをされることをおすすめします。バックアップでの手順については、Optimus X IS11LG取扱説明書をご覧ください。\n",
      "・OSアップデートには本体容量に70MB以上の空き容量が必要となります。\n",
      "　　Optimus X IS11LG取扱説明書\n",
      "・ソフトウェア更新に失敗したときや中止されたときは、ソフトウェア更新を実行し直してください。\n",
      "・ソフトウェア更新後に初めて起動したときは、データ更新処理のため、数分から数十分間、動作が遅くなる場合があります。所要時間は本端末内のデータ量により異なります。通常の動作速度に戻るまでは電源を切らないでください。\n",
      "・ソフトウェア更新中に電池パックを取り外さないでください。電池パックを取り外すと、ソフトウェア更新に失敗することがあります。\n",
      "・ソフトウェアの更新中は、移動しないでください。\n",
      "・ソフトウェアの更新中は操作できません。110番 (警察)、119番 (消防機関)、118番 (海上保安本部) へ電話をかけることもできません。また、アラームなども動作しません。\n",
      "\n",
      "〈アプリについて〉\n",
      "・Android 2.3で動作しているアプリケーションのAndroid 4.0上での動作は保証できません。アプリケーションの対応OSなどをご確認の上、OSアップデートを実施してください。\n",
      "・Friends Note: 連携するアドレス帳アプリに「Friends Note」をご利用いただいているお客さまはau MarketからAndroid 4.0対応の最新版アプリをダウンロードする必要があります。\n",
      "・auスマートパス: auスマートパスアプリの対応状況は、auスマートパスホーム → 「アプリ対応機種一覧」よりご確認いただけます。\n",
      "　　auスマートパス ホーム\n",
      "・Wi-Fi Direct: Wi-Fi　Direct機能が非対応となります。\n",
      "・LISMO Player: OSアップデートすると、現在お使いのLISMO Playerはご利用いただけなくなる為、au MarketよりAndroid 4.0に対応したLISMO Playerにバージョンアップいただきますようお願いいたします。\n",
      "・「au Market」 → 「マイアプリ」 → 「LISMO Player」\n",
      "\n",
      "〈絵文字、FlashR について〉\n",
      "・OSアップデート後にFlashR Playerがプリインストールされなくなります。これにより動画・ゲーム・デコレーション絵文字の一部がご覧いただけなくなることがあります。\n",
      "・OSアップデート後に、au絵文字が新しくなります。\n",
      "・既存の絵文字をそのまま使い続けることはできません。\n",
      "・また、すでに送受信ボックスに保存されているメール文内のau絵文字も新しいau絵文字に置き換わります。\n",
      "　　絵文字メール\n",
      "\n",
      "記事執筆：memn0ck\n",
      "\n",
      "■関連リンク\n",
      "・エスマックス（S-MAX）\n",
      "・エスマックス（S-MAX） smaxjp on Twitter\n",
      "・「Optimus X IS11LG」の「OSアップデート」についてのお知らせ | スマートフォンなどアップデート | au\n",
      "・LGエレクトロニクス・ジャパン\n",
      "\n"
     ]
    }
   ],
   "source": [
    "read_doc(5558)"
   ]
  },
  {
   "cell_type": "code",
   "execution_count": 165,
   "metadata": {
    "collapsed": false,
    "scrolled": false
   },
   "outputs": [
    {
     "name": "stdout",
     "output_type": "stream",
     "text": [
      "http://news.livedoor.com/article/detail/6679843/\n",
      "2012-06-21T13:00:00+0900\n",
      "非公式アプリでも結構イケる！ UbuntuでもEvernoteが使える【デジ通】\n",
      "Ubuntu（ウブントゥ）には多くのアプリが付属するが、それだけでは十分でないこともある。たとえば、人気のクラウドサービスEvernote用のクライアントは提供されていない。\n",
      "\n",
      "だが、世界中の開発者がアプリを開発し、ほとんどが無償提供されているLinuxの世界。「非公式アプリ」とはいえ互換性のあるアプリが提供されている。今回は、Evernote用のクライアント「NixNote」を紹介しよう。\n",
      "\n",
      "\n",
      "■「NixNote」をダウンロード\n",
      "「NixNote」は、下記のサイトからダウンロードする。インストールパッケージは、ホームフォルダの「ダウンロード」に保存されている。\n",
      "\n",
      "インストールするには、以前のLinuxのように長いコマンドをタイプする必要はない。パッケージのアイコンをダブルクリックするだけだが、途中でパスワードの入力を求められるところだけがWindowsと異なる点だ。インストールは「Ubuntuソフトウェアセンター」が管理している。\n",
      "\n",
      "■外観は公式アプリにそっくり\n",
      "最初の起動は、ランチャー最上部にある「Dashホーム」から行う。JAVAを実行環境としているため、キリンが描かれたスプラッシュ画面があらわれるなど起動は速くはないが、起動後の動作は軽快だ。なお、「NixNote」をランチャーに常時登録したい場合は、起動時にランチャーにあらわれるキリンのアイコンを右クリックして登録する。\n",
      "\n",
      "外観は公式アプリと大きな違いはなく、ノートの追加や削除も簡単だ。ノートの表示方法は微妙に異なるが、「リスト」「サマリー」「カード」の３種類がしっかり用意されている。リストの場合、標準で「引用元URL」や「作成者」など多数の項目が表示されるが、設定の変更で減らすことも可能だ。\n",
      "\n",
      "Evernoteのアカウントは、［編集］→［設定］で設定する。同期を自動、15分間隔、手動などに設定できる点も、公式アプリとそん色ない。ただ、Firefoxのアドオンである「Evernote Web Clipper」との連動はできない。\n",
      "\n",
      "■公式アプリではない点は注意\n",
      "一通り使ってみたが、設定したタグが完全に反映されないなど、細かな問題が起きた。また、いちどに大量のノートを同期しようとすると、異常終了してしまうこともあった。\n",
      "\n",
      "公式アプリではない関係上、「ぜいたくを言えない」のも事実で、こうした点を差し引いても、「NixNote」はなかなかに使えるアプリといえる。Linuxでは、こうした非公式アプリが充実している。たとえば、ミュージックプレイヤーの「Rhythmbox」は、iPodとの楽曲同期もできる（著作権保護機能付きの楽曲は不可）。\n",
      "\n",
      "非公式アプリは、Ubuntuを日常的に使うためのハードルを下げてくれるありがたい存在なのだ。\n",
      "\n",
      "\n",
      "■NixNote\n",
      "\n",
      "大島克彦＠katsuosh［digi2（デジ通）］\n",
      "\n",
      "digi2は「デジタル通」の略です。現在のデジタル機器は使いこなしが難しくなっています。\n",
      "皆さんがデジタル機器の「通」に近づくための情報を、皆さんよりすこし通な執筆陣が提供します。\n",
      "\n",
      "\n",
      "■ITライフハックTwitter\n",
      "\n",
      "■デジ通の記事をもっと見る\n",
      "・DVDから起動してアプリが使える 救出だけでないUbuntuの使い道\n",
      "・いつでもどこでも自分専用環境！　Ubuntu起動ができるUSBメモリーを作成！\n",
      "・Windowsトラブル時にデータを救出！Ubuntuの便利な機能アレコレ\n",
      "・「Dropbox」のUbuntu版を試す Linuxでも同じ使いこなし！\n",
      "・「Ubuntu One」はLinux対応 楽曲ストリーミング対応のクラウド\n",
      "\n"
     ]
    }
   ],
   "source": [
    "read_doc(1410)"
   ]
  },
  {
   "cell_type": "code",
   "execution_count": null,
   "metadata": {
    "collapsed": true
   },
   "outputs": [],
   "source": []
  },
  {
   "cell_type": "code",
   "execution_count": null,
   "metadata": {
    "collapsed": true
   },
   "outputs": [],
   "source": []
  },
  {
   "cell_type": "code",
   "execution_count": null,
   "metadata": {
    "collapsed": true
   },
   "outputs": [],
   "source": []
  },
  {
   "cell_type": "code",
   "execution_count": 166,
   "metadata": {
    "collapsed": true
   },
   "outputs": [],
   "source": [
    "from gensim import similarities"
   ]
  },
  {
   "cell_type": "code",
   "execution_count": 167,
   "metadata": {
    "collapsed": false
   },
   "outputs": [],
   "source": [
    "doc_index = similarities.docsim.MatrixSimilarity(lda[corpus])"
   ]
  },
  {
   "cell_type": "code",
   "execution_count": 187,
   "metadata": {
    "collapsed": true
   },
   "outputs": [],
   "source": [
    "c = corpus[5000]\n",
    "vec_lda = lda[c]"
   ]
  },
  {
   "cell_type": "code",
   "execution_count": 188,
   "metadata": {
    "collapsed": false
   },
   "outputs": [],
   "source": [
    "s = doc_index.get_similarities(vec_lda)"
   ]
  },
  {
   "cell_type": "code",
   "execution_count": 189,
   "metadata": {
    "collapsed": false
   },
   "outputs": [],
   "source": [
    "s = sorted(enumerate(s), key=lambda t: t[1], reverse=True)"
   ]
  },
  {
   "cell_type": "code",
   "execution_count": 190,
   "metadata": {
    "collapsed": false
   },
   "outputs": [
    {
     "data": {
      "text/plain": [
       "[(5558, 0.37940085),\n",
       " (5297, 0.37891358),\n",
       " (5497, 0.37838998),\n",
       " (5660, 0.37461069),\n",
       " (5349, 0.37324414),\n",
       " (5630, 0.37213087),\n",
       " (5296, 0.3714397),\n",
       " (5539, 0.36055902),\n",
       " (4952, 0.35997331),\n",
       " (5287, 0.35913676)]"
      ]
     },
     "execution_count": 190,
     "metadata": {},
     "output_type": "execute_result"
    }
   ],
   "source": [
    "s[1:11]"
   ]
  },
  {
   "cell_type": "code",
   "execution_count": 192,
   "metadata": {
    "collapsed": false
   },
   "outputs": [
    {
     "data": {
      "text/plain": [
       "[(5558, 0.065379147319052699),\n",
       " (5297, 0.066569651435818056),\n",
       " (5497, 0.067867272056701844),\n",
       " (5660, 0.07717944994314696),\n",
       " (5349, 0.080324860323738534),\n",
       " (5630, 0.083285008567317576),\n",
       " (5296, 0.085007544813284874),\n",
       " (5539, 0.11145168036414599),\n",
       " (4952, 0.11305264390568159),\n",
       " (5287, 0.11529363722508312)]"
      ]
     },
     "execution_count": 192,
     "metadata": {},
     "output_type": "execute_result"
    }
   ],
   "source": [
    "similar_to(5000, num=10, distance=True)"
   ]
  },
  {
   "cell_type": "code",
   "execution_count": null,
   "metadata": {
    "collapsed": true
   },
   "outputs": [],
   "source": []
  }
 ],
 "metadata": {
  "kernelspec": {
   "display_name": "Environment (py3.6)",
   "language": "",
   "name": "py3.6"
  },
  "language_info": {
   "codemirror_mode": {
    "name": "ipython",
    "version": 3
   },
   "file_extension": ".py",
   "mimetype": "text/x-python",
   "name": "python",
   "nbconvert_exporter": "python",
   "pygments_lexer": "ipython3",
   "version": "3.6.0"
  }
 },
 "nbformat": 4,
 "nbformat_minor": 2
}
