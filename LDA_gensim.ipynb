{
 "cells": [
  {
   "cell_type": "markdown",
   "metadata": {},
   "source": [
    "## install mecab on mac\n",
    "```\n",
    "brew install mecab mecab-ipadic  \n",
    "pip install mecab-python3\n",
    "```"
   ]
  },
  {
   "cell_type": "markdown",
   "metadata": {},
   "source": [
    "## install neolog\n",
    "```\n",
    "git clone --depth 1 https://github.com/neologd/mecab-ipadic-neologd.git\n",
    "cd mecab-ipadic-neologd\n",
    "./bin/install-mecab-ipadic-neologd -n\n",
    "```"
   ]
  },
  {
   "cell_type": "markdown",
   "metadata": {},
   "source": [
    "## get Japanese articles\n",
    "livedoor ニュースコーパス\n",
    "\n",
    "```\n",
    "wget https://www.rondhuit.com/download/ldcc-20140209.tar.gz\n",
    "tar xvzf ldcc-20140209.tar.gz\n",
    "```"
   ]
  },
  {
   "cell_type": "code",
   "execution_count": 1,
   "metadata": {
    "collapsed": false
   },
   "outputs": [],
   "source": [
    "import MeCab\n",
    "from urllib import request \n",
    "from pathlib import Path\n",
    "from gensim import corpora, models\n",
    "import tqdm"
   ]
  },
  {
   "cell_type": "code",
   "execution_count": 2,
   "metadata": {
    "collapsed": false
   },
   "outputs": [],
   "source": [
    "mecab = MeCab.Tagger(\"-Ochasen -d /usr/local/lib/mecab/dic/mecab-ipadic-neologd/\")"
   ]
  },
  {
   "cell_type": "code",
   "execution_count": 3,
   "metadata": {
    "collapsed": false
   },
   "outputs": [
    {
     "data": {
      "text/plain": [
       "[['今日', 'キョウ', '今日', '名詞-副詞可能'],\n",
       " ['も', 'モ', 'も', '助詞-係助詞'],\n",
       " ['1日', 'ツイタチ', '1日', '名詞-固有名詞-一般'],\n",
       " ['がん', 'ガン', 'がん', '名詞-一般'],\n",
       " ['ばる', 'バル', 'バル', '名詞-一般'],\n",
       " ['ぞい', 'ゾイ', 'ぞい', '名詞-接尾-一般'],\n",
       " ['！', '！', '！', '記号-一般'],\n",
       " ['1000', '1000', '1000', '名詞-数'],\n",
       " ['EOS\\n']]"
      ]
     },
     "execution_count": 3,
     "metadata": {},
     "output_type": "execute_result"
    }
   ],
   "source": [
    "[line.split(\"\\t\") for line in mecab.parse(\"今日も1日がんばるぞい！1000\").split(\"\\t\\t\\n\")]"
   ]
  },
  {
   "cell_type": "code",
   "execution_count": 4,
   "metadata": {
    "collapsed": false
   },
   "outputs": [
    {
     "data": {
      "text/plain": [
       "[PosixPath('text/dokujo-tsushin'),\n",
       " PosixPath('text/it-life-hack'),\n",
       " PosixPath('text/kaden-channel'),\n",
       " PosixPath('text/livedoor-homme'),\n",
       " PosixPath('text/movie-enter'),\n",
       " PosixPath('text/peachy'),\n",
       " PosixPath('text/smax'),\n",
       " PosixPath('text/sports-watch'),\n",
       " PosixPath('text/topic-news')]"
      ]
     },
     "execution_count": 4,
     "metadata": {},
     "output_type": "execute_result"
    }
   ],
   "source": [
    "doc_dir = Path(\"./text/\")\n",
    "dirs = [i for i in doc_dir.iterdir() if i.is_dir()]\n",
    "dirs"
   ]
  },
  {
   "cell_type": "code",
   "execution_count": 7,
   "metadata": {
    "collapsed": false
   },
   "outputs": [],
   "source": [
    "articles = [a for categ in dirs for a in categ.iterdir()]"
   ]
  },
  {
   "cell_type": "code",
   "execution_count": 8,
   "metadata": {
    "collapsed": false
   },
   "outputs": [
    {
     "data": {
      "text/plain": [
       "7376"
      ]
     },
     "execution_count": 8,
     "metadata": {},
     "output_type": "execute_result"
    }
   ],
   "source": [
    "len(articles)"
   ]
  },
  {
   "cell_type": "code",
   "execution_count": 9,
   "metadata": {
    "collapsed": false,
    "scrolled": true
   },
   "outputs": [],
   "source": [
    "res = request.urlopen(\"http://svn.sourceforge.jp/svnroot/slothlib/CSharp/Version1/SlothLib/NLP/Filter/StopWord/word/Japanese.txt\")\n",
    "stopwords = [line.decode(\"utf-8\").strip() for line in res]\n",
    "#stopwords"
   ]
  },
  {
   "cell_type": "code",
   "execution_count": 10,
   "metadata": {
    "collapsed": false
   },
   "outputs": [
    {
     "data": {
      "text/plain": [
       "['青葉', '正社員', 'お', '給料', '抜け穴']"
      ]
     },
     "execution_count": 10,
     "metadata": {},
     "output_type": "execute_result"
    }
   ],
   "source": [
    "def tokenizer(text):\n",
    "    l = [line.split(\"\\t\") for line in mecab.parse(text).split(\"\\t\\t\\n\")]\n",
    "    res = [i[0] for i in l \n",
    "                   if len(i)==4 \n",
    "                       and \"名詞\" in i[3] \n",
    "                       and \"数\" not in i[3] \n",
    "                       and i[0] not in stopwords\n",
    "            ]\n",
    "    return res\n",
    "tokenizer(\"青葉「ま・・・まさか！正社員ってお給料を安くするための法の抜け穴・・・」1000\")"
   ]
  },
  {
   "cell_type": "code",
   "execution_count": 11,
   "metadata": {
    "collapsed": false
   },
   "outputs": [
    {
     "name": "stderr",
     "output_type": "stream",
     "text": [
      "100%|██████████| 7376/7376 [00:25<00:00, 293.51it/s]\n"
     ]
    }
   ],
   "source": [
    "docs = []\n",
    "for a in tqdm.tqdm(articles):\n",
    "    with a.open() as f:\n",
    "        f.readline()\n",
    "        f.readline()\n",
    "        docs.append(tokenizer(f.read()))"
   ]
  },
  {
   "cell_type": "code",
   "execution_count": 66,
   "metadata": {
    "collapsed": false
   },
   "outputs": [
    {
     "data": {
      "text/plain": [
       "['友人', '代表', 'スピーチ', '独女', 'ジューン・ブライド', '独女', 'お祝い', '貧乏', '状態', '出席']"
      ]
     },
     "execution_count": 66,
     "metadata": {},
     "output_type": "execute_result"
    }
   ],
   "source": [
    "docs[0][:10]"
   ]
  },
  {
   "cell_type": "code",
   "execution_count": 49,
   "metadata": {
    "collapsed": false
   },
   "outputs": [],
   "source": [
    "no_below = 5\n",
    "no_above = 0.2\n",
    "d = corpora.Dictionary(docs)\n",
    "d.filter_extremes(no_below, no_above)\n",
    "d.compactify()"
   ]
  },
  {
   "cell_type": "code",
   "execution_count": 71,
   "metadata": {
    "collapsed": false
   },
   "outputs": [
    {
     "data": {
      "text/plain": [
       "20849"
      ]
     },
     "execution_count": 71,
     "metadata": {},
     "output_type": "execute_result"
    }
   ],
   "source": [
    "dic_num = len(d)\n",
    "dic_num"
   ]
  },
  {
   "cell_type": "code",
   "execution_count": 57,
   "metadata": {
    "collapsed": false
   },
   "outputs": [
    {
     "data": {
      "text/plain": [
       "[(0, 1), (1, 1), (2, 1), (3, 2), (4, 1), (5, 1), (6, 1), (7, 1)]"
      ]
     },
     "execution_count": 57,
     "metadata": {},
     "output_type": "execute_result"
    }
   ],
   "source": [
    "d.doc2bow(docs[0][:10])"
   ]
  },
  {
   "cell_type": "markdown",
   "metadata": {},
   "source": [
    "(id, count)"
   ]
  },
  {
   "cell_type": "code",
   "execution_count": 73,
   "metadata": {
    "collapsed": false
   },
   "outputs": [
    {
     "data": {
      "text/plain": [
       "'出席'"
      ]
     },
     "execution_count": 73,
     "metadata": {},
     "output_type": "execute_result"
    }
   ],
   "source": [
    "d[7] # get word from id"
   ]
  },
  {
   "cell_type": "code",
   "execution_count": 13,
   "metadata": {
    "collapsed": true
   },
   "outputs": [],
   "source": [
    "corpus = [d.doc2bow(w) for w in docs]"
   ]
  },
  {
   "cell_type": "code",
   "execution_count": 70,
   "metadata": {
    "collapsed": false
   },
   "outputs": [
    {
     "data": {
      "text/plain": [
       "1110758"
      ]
     },
     "execution_count": 70,
     "metadata": {},
     "output_type": "execute_result"
    }
   ],
   "source": [
    "corpus_words = sum(count for doc in corpus for id, count in doc)\n",
    "corpus_words"
   ]
  },
  {
   "cell_type": "code",
   "execution_count": 15,
   "metadata": {
    "collapsed": false
   },
   "outputs": [],
   "source": [
    "lda = models.ldamodel.LdaModel(corpus=corpus, id2word=d, num_topics=10, iterations=100, passes=5)"
   ]
  },
  {
   "cell_type": "code",
   "execution_count": 16,
   "metadata": {
    "collapsed": false
   },
   "outputs": [
    {
     "data": {
      "text/plain": [
       "[(6,\n",
       "  '0.011*\"仕事\" + 0.010*\"女性\" + 0.006*\"男性\" + 0.005*\"転職\" + 0.005*\"会社\" + 0.005*\"livedoor\" + 0.004*\"結婚\" + 0.004*\"の\" + 0.004*\"年収\" + 0.003*\"相手\"'),\n",
       " (0,\n",
       "  '0.015*\"氏\" + 0.010*\"放送\" + 0.010*\"韓国\" + 0.008*\"番組\" + 0.008*\"選手\" + 0.007*\"声\" + 0.007*\"批判\" + 0.007*\"試合\" + 0.006*\"監督\" + 0.006*\"同\"'),\n",
       " (3,\n",
       "  '0.007*\"ネット掲示板\" + 0.007*\"アナ\" + 0.006*\"ファッション\" + 0.005*\"自殺\" + 0.004*\"球団\" + 0.004*\"ボール\" + 0.004*\"女子\" + 0.004*\"物議\" + 0.004*\"大\" + 0.004*\"足\"'),\n",
       " (1,\n",
       "  '0.013*\"更新\" + 0.013*\"対応\" + 0.012*\"D\" + 0.011*\"搭載\" + 0.010*\"スマートフォン\" + 0.010*\"S\" + 0.009*\"ソフトウェア\" + 0.009*\"機能\" + 0.008*\"MAX\" + 0.007*\"利用\"'),\n",
       " (4,\n",
       "  '0.025*\"映画\" + 0.014*\"公開\" + 0.009*\"監督\" + 0.007*\"作品\" + 0.006*\"本作\" + 0.005*\"世界\" + 0.005*\"役\" + 0.005*\"大\" + 0.004*\"特集\" + 0.004*\"主演\"')]"
      ]
     },
     "execution_count": 16,
     "metadata": {},
     "output_type": "execute_result"
    }
   ],
   "source": [
    "lda.print_topics(5)"
   ]
  },
  {
   "cell_type": "markdown",
   "metadata": {},
   "source": [
    "## see on tensorboard\n",
    "\n",
    "http://projector.tensorflow.org/  \n",
    "ref: https://github.com/RaRe-Technologies/gensim/blob/develop/docs/notebooks/Tensorboard_visualizations.ipynb\n"
   ]
  },
  {
   "cell_type": "code",
   "execution_count": 18,
   "metadata": {
    "collapsed": false
   },
   "outputs": [
    {
     "data": {
      "text/plain": [
       "[(0, 0.24285481438366582),\n",
       " (1, 0.00075203810829471934),\n",
       " (2, 0.12574257757405069),\n",
       " (3, 0.00075203970888466584),\n",
       " (4, 0.00075196348648189158),\n",
       " (5, 0.0007520392488661945),\n",
       " (6, 0.50031870821471058),\n",
       " (7, 0.00075199303843009706),\n",
       " (8, 0.056999363162606884),\n",
       " (9, 0.070324463074008664)]"
      ]
     },
     "execution_count": 18,
     "metadata": {},
     "output_type": "execute_result"
    }
   ],
   "source": [
    "all_topics = lda.get_document_topics(corpus, minimum_probability=0)\n",
    "all_topics[0]"
   ]
  },
  {
   "cell_type": "code",
   "execution_count": 29,
   "metadata": {
    "collapsed": false
   },
   "outputs": [],
   "source": [
    "with open('doc_lda_tensor.tsv','w') as w:\n",
    "    for doc_topics in all_topics:\n",
    "        for topics in doc_topics:\n",
    "            w.write(str(topics[1])+ \"\\t\")\n",
    "        w.write(\"\\n\")    "
   ]
  },
  {
   "cell_type": "code",
   "execution_count": 30,
   "metadata": {
    "collapsed": false
   },
   "outputs": [],
   "source": [
    "meta = [str(a).split(\"/\") for a in articles]"
   ]
  },
  {
   "cell_type": "code",
   "execution_count": 31,
   "metadata": {
    "collapsed": false
   },
   "outputs": [
    {
     "data": {
      "text/plain": [
       "['text', 'dokujo-tsushin', 'dokujo-tsushin-4778030.txt']"
      ]
     },
     "execution_count": 31,
     "metadata": {},
     "output_type": "execute_result"
    }
   ],
   "source": [
    "meta[0]"
   ]
  },
  {
   "cell_type": "code",
   "execution_count": 35,
   "metadata": {
    "collapsed": false
   },
   "outputs": [],
   "source": [
    "with open('doc_lda_metadata.tsv','w') as w:\n",
    "    w.write('Titles\\tGenres\\n')\n",
    "    for m in meta:\n",
    "        w.write(\"%s\\t%s\\n\" % (m[1][:2], m[1]))"
   ]
  },
  {
   "cell_type": "code",
   "execution_count": 37,
   "metadata": {
    "collapsed": false
   },
   "outputs": [
    {
     "data": {
      "text/plain": [
       "-8.3996888956204021"
      ]
     },
     "execution_count": 37,
     "metadata": {},
     "output_type": "execute_result"
    }
   ],
   "source": [
    "lda.log_perplexity(corpus)"
   ]
  },
  {
   "cell_type": "markdown",
   "metadata": {},
   "source": [
    "Estimate the variational bound of documents from corpus: E_q[log p(corpus)] - E_q[log q(corpus)]"
   ]
  },
  {
   "cell_type": "code",
   "execution_count": 81,
   "metadata": {
    "collapsed": false
   },
   "outputs": [
    {
     "data": {
      "text/plain": [
       "-8.3996936772887612"
      ]
     },
     "execution_count": 81,
     "metadata": {},
     "output_type": "execute_result"
    }
   ],
   "source": [
    "bound = lda.bound(corpus)/corpus_words\n",
    "bound #= lda.log_perplexity(corpus)"
   ]
  },
  {
   "cell_type": "code",
   "execution_count": 40,
   "metadata": {
    "collapsed": true
   },
   "outputs": [],
   "source": [
    "import numpy as np"
   ]
  },
  {
   "cell_type": "code",
   "execution_count": 79,
   "metadata": {
    "collapsed": false
   },
   "outputs": [
    {
     "data": {
      "text/plain": [
       "337.72179225914755"
      ]
     },
     "execution_count": 79,
     "metadata": {},
     "output_type": "execute_result"
    }
   ],
   "source": [
    "perplexity = np.exp2(-bound ) # 2^(-bound per words)"
   ]
  },
  {
   "cell_type": "code",
   "execution_count": 84,
   "metadata": {
    "collapsed": false
   },
   "outputs": [
    {
     "data": {
      "text/plain": [
       "[([(0.01328046851550143, '更新'),\n",
       "   (0.013236753901677648, '対応'),\n",
       "   (0.012495687604693734, 'D'),\n",
       "   (0.010980747308656643, '搭載'),\n",
       "   (0.010283676558696307, 'スマートフォン'),\n",
       "   (0.010155979436757315, 'S'),\n",
       "   (0.0091380964103196013, 'ソフトウェア'),\n",
       "   (0.0087274904173353825, '機能'),\n",
       "   (0.0078818169260381817, 'MAX'),\n",
       "   (0.0066500305949472151, '利用')],\n",
       "  -39.204929033239843),\n",
       " ([(0.016670690028008028, 'ソフトバンク'),\n",
       "   (0.016637290559786119, 'MAX'),\n",
       "   (0.01361713936911171, 'S'),\n",
       "   (0.010345780515399874, 'Twitter'),\n",
       "   (0.0090625231312763347, '向け'),\n",
       "   (0.0084070588020175412, 'アプリ'),\n",
       "   (0.0083205884269381119, 'smaxjp'),\n",
       "   (0.0079523490846985807, 'Android'),\n",
       "   (0.0076016741217253096, 'on'),\n",
       "   (0.0070336532209106717, 'HTC')],\n",
       "  -53.1537712093875),\n",
       " ([(0.024672881972101948, '映画'),\n",
       "   (0.014404324557891146, '公開'),\n",
       "   (0.0092255439305609036, '監督'),\n",
       "   (0.0074308503763662144, '作品'),\n",
       "   (0.0064192282337798253, '本作'),\n",
       "   (0.0052587949562587994, '世界'),\n",
       "   (0.004572903582255333, '役'),\n",
       "   (0.0045680349179048349, '大'),\n",
       "   (0.0041768113344288265, '特集'),\n",
       "   (0.0037111628279729663, '主演')],\n",
       "  -57.971598692329479),\n",
       " ([(0.023410003937370225, 'ご'),\n",
       "   (0.019740287248170015, 'アプリ'),\n",
       "   (0.0088888846096363064, 'キャンペーン'),\n",
       "   (0.0084005941507369654, 'プレゼント'),\n",
       "   (0.0083301809691380575, '応募'),\n",
       "   (0.0078465938032616714, 'iPhone'),\n",
       "   (0.0075495729675996845, 'チェック'),\n",
       "   (0.0075163425633086129, '当選'),\n",
       "   (0.0071553167613670095, '無料'),\n",
       "   (0.0068791418054022918, '利用')],\n",
       "  -75.853028021158352),\n",
       " ([(0.011230997914914239, '仕事'),\n",
       "   (0.0097806947187063006, '女性'),\n",
       "   (0.0059555661899145986, '男性'),\n",
       "   (0.0049794081043756039, '転職'),\n",
       "   (0.0048105222184645418, '会社'),\n",
       "   (0.004553632508052562, 'livedoor'),\n",
       "   (0.0043154639508129799, '結婚'),\n",
       "   (0.0036569311510570631, 'の'),\n",
       "   (0.00358489757962755, '年収'),\n",
       "   (0.0033187350412896164, '相手')],\n",
       "  -78.353226481846605),\n",
       " ([(0.018205359561198863, 'ネット掲示板'),\n",
       "   (0.0087340266222236257, '結婚'),\n",
       "   (0.0072189870499114765, 'の'),\n",
       "   (0.0060935573498834021, '氏'),\n",
       "   (0.0056419782309050648, '僕'),\n",
       "   (0.0055015056295745811, '相手'),\n",
       "   (0.0048994227861587983, '女性'),\n",
       "   (0.004893928157250549, '男性'),\n",
       "   (0.0048673240703235258, '恋愛'),\n",
       "   (0.0047436927833461257, '好き')],\n",
       "  -84.333764570241783),\n",
       " ([(0.01542740923152563, '氏'),\n",
       "   (0.010036957184750013, '放送'),\n",
       "   (0.0099105737534264451, '韓国'),\n",
       "   (0.0084984244238069558, '番組'),\n",
       "   (0.0082522962432563119, '選手'),\n",
       "   (0.0069169479340183398, '声'),\n",
       "   (0.0068365801237210708, '批判'),\n",
       "   (0.0065875089559259484, '試合'),\n",
       "   (0.0062688548349305673, '監督'),\n",
       "   (0.0062006951437321061, '同')],\n",
       "  -86.244934702501808),\n",
       " ([(0.00811935309804818, '写真'),\n",
       "   (0.0074703649388394473, '肌'),\n",
       "   (0.0056169773487014466, 'エスマックス'),\n",
       "   (0.0049463569036465411, '撮影'),\n",
       "   (0.0038470438065598663, '人気'),\n",
       "   (0.0038426438801331757, 'クリスマス'),\n",
       "   (0.0035187537573753082, '女性'),\n",
       "   (0.0034660467312336431, '女子'),\n",
       "   (0.0033610023999873823, '効果'),\n",
       "   (0.0029119627182527625, '料理')],\n",
       "  -119.50486796719167),\n",
       " ([(0.013851391607565086, '画面'),\n",
       "   (0.0083523800552110939, '表示'),\n",
       "   (0.0069243742923474228, 'ダルビッシュ'),\n",
       "   (0.0066798245796818615, '設定'),\n",
       "   (0.0063485748907000433, '写真'),\n",
       "   (0.0061104896663368722, 'ブログ'),\n",
       "   (0.0046429014519529443, 'クリック'),\n",
       "   (0.0046121509416767216, '紗栄子'),\n",
       "   (0.0045239827023568959, '金メダル'),\n",
       "   (0.0043981193186203088, '入力')],\n",
       "  -146.6525732667418),\n",
       " ([(0.0073526511803973533, 'ネット掲示板'),\n",
       "   (0.0069369272357790246, 'アナ'),\n",
       "   (0.005810525572001372, 'ファッション'),\n",
       "   (0.0047062195493017258, '自殺'),\n",
       "   (0.0044489220822040232, '球団'),\n",
       "   (0.0043735522464728033, 'ボール'),\n",
       "   (0.004288363565087566, '女子'),\n",
       "   (0.0042071732398132177, '物議'),\n",
       "   (0.0039630460539039781, '大'),\n",
       "   (0.0037539974153800231, '足')],\n",
       "  -149.12590759621068)]"
      ]
     },
     "execution_count": 84,
     "metadata": {},
     "output_type": "execute_result"
    }
   ],
   "source": [
    "lda.top_topics(corpus=corpus, num_words=10)"
   ]
  },
  {
   "cell_type": "code",
   "execution_count": null,
   "metadata": {
    "collapsed": true
   },
   "outputs": [],
   "source": []
  }
 ],
 "metadata": {
  "kernelspec": {
   "display_name": "Environment (py3.6)",
   "language": "",
   "name": "py3.6"
  },
  "language_info": {
   "codemirror_mode": {
    "name": "ipython",
    "version": 3
   },
   "file_extension": ".py",
   "mimetype": "text/x-python",
   "name": "python",
   "nbconvert_exporter": "python",
   "pygments_lexer": "ipython3",
   "version": "3.6.0"
  }
 },
 "nbformat": 4,
 "nbformat_minor": 2
}
